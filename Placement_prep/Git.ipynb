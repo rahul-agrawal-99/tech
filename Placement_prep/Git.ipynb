{
 "cells": [
  {
   "cell_type": "markdown",
   "metadata": {},
   "source": [
    "# Git   \n",
    "\n",
    "#### it is distributed version control system written in C  , currnt version = 2.29.*  , made by linux creator linus torvalds\n",
    "#### SVN(Apache Subversion) is a centralized version control system , easy than git  , Subgit is a tool that migrates SVN to Git.\n",
    "\n",
    "# GITHUB \n",
    "#### central hub to store the code remotely to get access anywhere  , owned by microsoft , Alternatives : Pikacode ,Visual Studio Online ,GitEnterprise ,SourceForge.net\n",
    "\n",
    "\n",
    "## \tGit Nomenclature:\n",
    "### \t *repository consists of a list named .git, where git holds all of its metadata for the catalog\n",
    "### \t *A bare repository is the same as default, but no commits can be made in a bare repository. The changes made in projects cannot be tracked by a bare repository as it doesn’t have a \t\tworking tree. \n",
    "### \t *Git config used to configure your choice for the Git installation. Using this we can describe the repository behavior, preferences, and user information.\n",
    "### \t * Staging Area/Index : When you are making the commits, you can make innovation to it, format it and review it in the common area\n",
    "### \t * commit : \"records changes to the storehouse\" \n",
    "### \t * Git hooks are scripts that run automatically every time a particular event occurs in a Git repository\n",
    "\n",
    "\n",
    "## Notes:\n",
    "\n",
    "#### \t/* HEAD is pointer pointing to current commit id. HEAD~N  can be used to point previous commits according to order\n",
    "#### \t/* Detached HEAD :state Where Head doesn't point to most recent commit. If you checkout with an older commit, it will stand the detached head condition\n",
    "#### \t/* dont use --force , use --force-with-lease   it will push only thode having no conflicts and prevents overwriting over conflicts\n",
    "#### \t/* Tags are Branch specific\n",
    "#### \t/* use git rm to track deleted files in staging area\n",
    "#### \t/* use mergetool for conflicts\n"
   ]
  },
  {
   "cell_type": "markdown",
   "metadata": {},
   "source": [
    "# Configuring GIT\n",
    "\n",
    "### Initialize git repo for a folder u\n",
    "\n",
    "```bash\n",
    "\t\n",
    "\tgit init    \n",
    "\tgit init NewDirectory     # init in newly created directory \n",
    "```\n",
    "### by default it is configured file is stored locally but we can set it to at system , and global level also (without it commit not possible)\n",
    "\n",
    "\tgit  config  --global  user.name\t\"rahul\"\n",
    "\t\t\t\tkey \t\tvalue       stored in config file  (key should be always in entity.type format , value should be in \" \")\n",
    "\n",
    "\t\tkey e.g. => user.name , user.email   --- both are need to set in order to commit\n",
    "\n",
    "### to see config file \n",
    "\t\n",
    "\tgit config --list       ---to see all the file\n",
    "\tgit config --get user.name      --- to get specific value for key\n",
    "\n",
    "### if error occures by connecting 2 terminal to 1 repo use\n",
    "\n",
    "        rm .git/index.lock\n",
    "\n",
    "### configuring git for use add and commit in one line using git aliases\n",
    "\n",
    "\tgit config --global alias.add-commit '!git add -A && git commit'      ---- after that just use git add-commit -m \"MSG\"\n",
    "\n",
    "### Git File Structure\n",
    "\n",
    "\t/Objects  Commits are stored in the form of hash , contains folder named as first 2 char from commit id and in it has a file named as remaining commits char\n",
    "\tBlob is an abbreviation for “binary large object”. When we git add a file such as example_file.txt , git creates a blob object containing the contents\n",
    "\n",
    "\tto store manually use :    echo \"sample_msg\" | git hash-object --stdin -w           ------it will create hash for msg\n",
    "\t\t\t\t\thash is stored in Objects/ FIRST_2_CHAR_OF_HASH / REMAINING_CHAR    \n",
    "\t\t\t\t\te.g  for hash 63a8db7bbde7553be61dc4a58086c48481752a85  , Folder name = 63 and file name = a8db7bbde7553be61dc4a58086c48481752a85\n",
    "\n",
    "\t\t\tUsing a txt file :   git hash-object PATH&NAME --stdin -w \n",
    "\t\n",
    "\n",
    "\n",
    "\tTo view Hash content  :  git cat-file -p FULL_HASH       ----- Fullhash = foldername + file name , Object type + object length + Delimiter + Content = hash\n",
    "\n",
    "\tTo get Hash Type      :  git cat-file -t FULL_HASH               ------ use -s to get size\n",
    "\n",
    "\n"
   ]
  },
  {
   "cell_type": "markdown",
   "metadata": {},
   "source": []
  },
  {
   "cell_type": "markdown",
   "metadata": {},
   "source": []
  },
  {
   "cell_type": "markdown",
   "metadata": {},
   "source": []
  },
  {
   "cell_type": "markdown",
   "metadata": {},
   "source": []
  },
  {
   "cell_type": "markdown",
   "metadata": {},
   "source": []
  },
  {
   "cell_type": "markdown",
   "metadata": {},
   "source": []
  },
  {
   "cell_type": "markdown",
   "metadata": {},
   "source": []
  },
  {
   "cell_type": "markdown",
   "metadata": {},
   "source": []
  },
  {
   "cell_type": "markdown",
   "metadata": {},
   "source": []
  }
 ],
 "metadata": {
  "kernelspec": {
   "display_name": "Python 3.8.10 64-bit",
   "language": "python",
   "name": "python3"
  },
  "language_info": {
   "name": "python",
   "version": "3.8.10"
  },
  "orig_nbformat": 4,
  "vscode": {
   "interpreter": {
    "hash": "b82bd812b6a37d04ba59de08f4dfa67a262de1c3e27303c0cb0a5b38b381c61f"
   }
  }
 },
 "nbformat": 4,
 "nbformat_minor": 2
}
