{
 "cells": [
  {
   "cell_type": "code",
   "execution_count": 14,
   "metadata": {},
   "outputs": [
    {
     "name": "stdout",
     "output_type": "stream",
     "text": [
      "Num at 3 is 1\n",
      "Num at 4 is 2\n",
      "Num at 5 is 3\n",
      "Sum of the series is 3\n",
      "Sum upto 5 length is  3\n"
     ]
    }
   ],
   "source": [
    "# Fibonacci series \n",
    "\n",
    "#  iterative way\n",
    "\n",
    "n = 5     # series upto n terms\n",
    "n1, n2 = 0, 1\n",
    "i = 0\n",
    "s = 0 \n",
    "\n",
    "while(i < n - 2):   # n-2 because we already have 2 numbers in the series\n",
    "    s = n1 + n2\n",
    "    n1 = n2\n",
    "    n2 = s\n",
    "    i += 1 \n",
    "    print(f\"Num at {i+2} is {s}\")\n",
    "print(f\"Sum of the series is {s}\")\n",
    "\n",
    "#  recursive way\n",
    "\n",
    "def fib(n):\n",
    "    if n < 2:\n",
    "        return n\n",
    "    else:\n",
    "        return fib(n-1) + fib(n-2)\n",
    "\n",
    "total_n = 5\n",
    "\n",
    "\n",
    "print(f\"Sum upto {total_n} length is \",fib(total_n - 1))   # n-1 because we already have 1 number in the series i.e. 0"
   ]
  },
  {
   "cell_type": "code",
   "execution_count": 17,
   "metadata": {},
   "outputs": [
    {
     "name": "stdout",
     "output_type": "stream",
     "text": [
      "Factorial of 3 is 6\n",
      "Factorial of 3 is 6\n"
     ]
    }
   ],
   "source": [
    "#  Factorial of a number\n",
    "\n",
    "# iterative way\n",
    "\n",
    "n = 3\n",
    "fact = 1\n",
    "for i in range(1,n+1):\n",
    "    fact *= i\n",
    "print(f\"Factorial of {n} is {fact}\")\n",
    "\n",
    "# recursive way\n",
    "\n",
    "def fact(n):\n",
    "    if n == 0:\n",
    "        return 1\n",
    "    else:\n",
    "        return n * fact(n-1)\n",
    "\n",
    "print(f\"Factorial of {n} is {fact(n)}\")"
   ]
  },
  {
   "cell_type": "code",
   "execution_count": 46,
   "metadata": {},
   "outputs": [
    {
     "name": "stdout",
     "output_type": "stream",
     "text": [
      "307,  311,  313,  317,  331,  337,  347,  349,  353,  359,  367,  373,  379,  383,  389,  397,  \n",
      "total prime numbers in range 300-400 is 16\n",
      "999983 is prime: True\n"
     ]
    }
   ],
   "source": [
    "# Prime number in a range\n",
    "\n",
    "from_n = 300\n",
    "n = 400\n",
    "total = 0\n",
    "for i in range(from_n,n+1):\n",
    "    if i == 1  or i == 0:\n",
    "        continue\n",
    "    for j in range(2,int(i**0.5) + 1):\n",
    "        if i % j == 0 :\n",
    "            break\n",
    "            \n",
    "    else:\n",
    "        total += 1\n",
    "        print(f\"{i}, \" , end = \" \")\n",
    "\n",
    "print(f\"\\ntotal prime numbers in range {from_n}-{n} is {total}\")\n",
    "\n",
    "\n",
    "#  check if a number is prime or not\n",
    "\n",
    "n= 999983\n",
    "def check(n):\n",
    "    upto_n = int(n**0.5) + 1    #  decrease the number of iterations\n",
    "    for i in range(2,upto_n):\n",
    "        if n % i == 0:\n",
    "            return False\n",
    "    return True\n",
    "\n",
    "print(f\"{n} is prime: {check(n)}\")"
   ]
  },
  {
   "cell_type": "code",
   "execution_count": 1,
   "metadata": {},
   "outputs": [
    {
     "name": "stdout",
     "output_type": "stream",
     "text": [
      "Reverse of 123456789 is 987654321\n"
     ]
    }
   ],
   "source": [
    "#  Reverse number \n",
    "\n",
    "n = 123456789\n",
    "\n",
    "def reverse(n):\n",
    "    rev = 0\n",
    "    while(n > 0):\n",
    "        rev = rev * 10 + n % 10\n",
    "        n = n // 10\n",
    "    return rev\n",
    "\n",
    "print(f\"Reverse of {n} is {reverse(n)}\")"
   ]
  },
  {
   "cell_type": "code",
   "execution_count": 4,
   "metadata": {},
   "outputs": [
    {
     "name": "stdout",
     "output_type": "stream",
     "text": [
      "abccba is palindrome: True\n"
     ]
    }
   ],
   "source": [
    "#  Palindrome number or string\n",
    "\n",
    "n = 1234321\n",
    "n = \"abccba\"\n",
    "\n",
    "def palindrome(n):\n",
    "    return str(n) == str(n)[::-1]\n",
    "\n",
    "print(f\"{n} is palindrome: {palindrome(n)}\")"
   ]
  },
  {
   "cell_type": "code",
   "execution_count": 2,
   "metadata": {},
   "outputs": [
    {
     "name": "stdout",
     "output_type": "stream",
     "text": [
      "Reverse of 'Hello World i am great' is --------> great am i World Hello\n"
     ]
    }
   ],
   "source": [
    "#  reverse stirng \n",
    "\n",
    "s = \"Hello World i am great\"\n",
    "\n",
    "out = \"grate am i World Hello\"\n",
    "\n",
    "def reverse(s):\n",
    "    return \" \".join(s.split()[::-1])\n",
    "\n",
    "print(f\"Reverse of '{s}' is --------> {reverse(s)}\")"
   ]
  },
  {
   "cell_type": "code",
   "execution_count": 5,
   "metadata": {},
   "outputs": [
    {
     "name": "stdout",
     "output_type": "stream",
     "text": [
      "153 is armstrong: True\n"
     ]
    }
   ],
   "source": [
    "#  Armstrong number\n",
    "\n",
    "#  armstrong number is number whose sum of cubes of each digit is equal to the number itself\n",
    "\n",
    "n = 153\n",
    "\n",
    "def armstrong(n):\n",
    "    n = str(n)\n",
    "    total = 0\n",
    "    for i in n:\n",
    "        total += int(i)**len(n)\n",
    "    return total == int(n)\n",
    "\n",
    "print(f\"{n} is armstrong: {armstrong(n)}\")"
   ]
  },
  {
   "cell_type": "code",
   "execution_count": 7,
   "metadata": {},
   "outputs": [
    {
     "name": "stdout",
     "output_type": "stream",
     "text": [
      "145 is strong: True\n"
     ]
    }
   ],
   "source": [
    "#  Strong number\n",
    "\n",
    "#  strong number is number whose sum of factorial of each digit is equal to the number itself  , e.g. 145 = 1! + 4! + 5! , 1 , 2 \n",
    "\n",
    "n = 145\n",
    "\n",
    "def fact(n):\n",
    "    if n == 0:\n",
    "        return 1\n",
    "    else:\n",
    "        return n * fact(n-1)\n",
    "\n",
    "def strong(n):\n",
    "    n = str(n)\n",
    "    total = 0\n",
    "    for i in n:\n",
    "        total += fact(int(i))\n",
    "    return total == int(n)\n",
    "\n",
    "print(f\"{n} is strong: {strong(n)}\")"
   ]
  },
  {
   "cell_type": "code",
   "execution_count": 2,
   "metadata": {},
   "outputs": [
    {
     "name": "stdout",
     "output_type": "stream",
     "text": [
      "Second largest in [1, 2, 3, 4, 5] is 4\n"
     ]
    }
   ],
   "source": [
    "# second largest in list without sorting\n",
    "\n",
    "l = [1,2,3,4,5]\n",
    "\n",
    "firstmax = max(l)\n",
    "\n",
    "secondmax = 0\n",
    "\n",
    "for i in l:\n",
    "    if i > secondmax and i < firstmax:\n",
    "        secondmax = i\n",
    "\n",
    "print(f\"Second largest in {l} is {secondmax}\")"
   ]
  },
  {
   "cell_type": "code",
   "execution_count": 2,
   "metadata": {},
   "outputs": [
    {
     "name": "stdout",
     "output_type": "stream",
     "text": [
      "a@bc123@#$  ->  3@21cba@#$\n",
      "Rahul@123$asd ->  dsa32@1lu$haR\n"
     ]
    }
   ],
   "source": [
    "#  reverse the string but only words and numbers not any special character\n",
    "\n",
    "# e.g. \"a@bc123@#$\"  to  \"3@21cba@#$\"\n",
    "\n",
    "\n",
    "a = \"a@bc123@#$\"\n",
    "\n",
    "def rev(a):\n",
    "    newst = []\n",
    "    ch = []\n",
    "    small = list(range(65,91))\n",
    "    big  =  list(range(97,123))\n",
    "    num = list(range(48,58))\n",
    "\n",
    "    include = []\n",
    "    include.extend(small )\n",
    "    include.extend(big)\n",
    "    include.extend(num)\n",
    "\n",
    "    for index,i in  enumerate(a):\n",
    "        if ord(i) not in include:\n",
    "            ch.append((i,index))\n",
    "\n",
    "            \n",
    "\n",
    "    for i in range(len(a)-1 , -1 ,-1):\n",
    "        if ord(a[i]) in include: \n",
    "            newst.append(a[i])\n",
    "            \n",
    "    for i in ch:\n",
    "        newst.insert(i[1] , i[0])\n",
    "    \n",
    "    return \"\".join(newst)\n",
    "\n",
    "print(a,\" -> \" , rev(a))\n",
    "print(\"Rahul@123$asd -> \" , rev(\"Rahul@123$asd\"))"
   ]
  },
  {
   "cell_type": "code",
   "execution_count": 13,
   "metadata": {},
   "outputs": [
    {
     "name": "stdout",
     "output_type": "stream",
     "text": [
      "Total triplets in [1, 2, 4, 5, 7, 8, 10] with diff 3 is 3\n"
     ]
    }
   ],
   "source": [
    "#  finding triplets in a list whose diff is constant i.e. k , return total num of triplets that can be formed\\\n",
    "\n",
    "#  e.g. [1,2,3,4,5] , k = 1 ,  triplets are (1,2,3) , (2,3,4) , (3,4,5) , so total triplets are 3\n",
    "\n",
    "l = [1,2,4,5,7,8,10]\n",
    "k = 3\n",
    "\n",
    "def trip(l , k):\n",
    "    l.sort()\n",
    "    total = 0\n",
    "    stop_index  = l[-1] - k\n",
    "    for i in range(stop_index , -1 , -1):\n",
    "        if i in l:\n",
    "            stop_index = l.index(i)\n",
    "            break\n",
    "    \n",
    "    for i in range(stop_index):\n",
    "        if l[i] + k in l and l[i] + 2*k in l:\n",
    "            total += 1\n",
    "    return total\n",
    "\n",
    "print(f\"Total triplets in {l} with diff {k} is {trip(l,k)}\")"
   ]
  }
 ],
 "metadata": {
  "kernelspec": {
   "display_name": "Python 3.8.7 64-bit",
   "language": "python",
   "name": "python3"
  },
  "language_info": {
   "codemirror_mode": {
    "name": "ipython",
    "version": 3
   },
   "file_extension": ".py",
   "mimetype": "text/x-python",
   "name": "python",
   "nbconvert_exporter": "python",
   "pygments_lexer": "ipython3",
   "version": "3.8.7"
  },
  "orig_nbformat": 4,
  "vscode": {
   "interpreter": {
    "hash": "b82bd812b6a37d04ba59de08f4dfa67a262de1c3e27303c0cb0a5b38b381c61f"
   }
  }
 },
 "nbformat": 4,
 "nbformat_minor": 2
}
