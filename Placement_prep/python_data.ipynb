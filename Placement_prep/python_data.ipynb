{
 "cells": [
  {
   "cell_type": "markdown",
   "metadata": {},
   "source": [
    "# List , Tuple , Set , Dictionary"
   ]
  },
  {
   "cell_type": "code",
   "execution_count": 2,
   "metadata": {},
   "outputs": [
    {
     "data": {
      "text/plain": [
       "[[6, 5], [7, 9], [8, 4]]"
      ]
     },
     "execution_count": 2,
     "metadata": {},
     "output_type": "execute_result"
    }
   ],
   "source": [
    "#  list : list of values of same or different data types\n",
    "\n",
    "# List comprehension offers a shorter syntax when you want to create a new list based on the values of an existing list.\n",
    "\n",
    "\n",
    "\n",
    "l = [1, 2, 3, 4, 5 , \"hello\", \"world\"]\n",
    "\n",
    "#  list methods\n",
    "\n",
    "l[0:5:2]           # start :  stop-1  :  step\n",
    "l[::-1]            # reverse\n",
    "l[-1:]          # last element in list\n",
    "l[-2:]          # last two elements in list\n",
    "l[-1::-1]          # get list in reverse order , same as list(reversed(l))\n",
    "# l*2                # duplicate list elements not multiply\n",
    "\n",
    "#  index :   0  1   2   3   4\n",
    "#           -5  -4  -3  -2  -1 \n",
    "\n",
    "# l.clear()          # clear all elements in list , same as del l[:]\n",
    "l.count(1)         # count number of times 1 is present in list \n",
    "l.index(1)         # get index of 1 in list otherwise raise ValueError\n",
    "l.insert(2, \"inserted\")   # index, value  ;  insert element at index 2 and side naxt value from index 2 with index + 1\n",
    "l.extend([\"extended\"])    # extend list with another list\n",
    "l.reverse()        # reverse list\n",
    "# l.sort()           # sort list  , same as sorted(l) , requires same data type for entire list\n",
    "l.pop()            # remove last element from list\n",
    "l.pop(2)           # remove element at index 2 from list\n",
    "l.remove(1)        # remove element 1 o from list if more than one occurances then remove first occured , if not present raise ValueError\n",
    "# l.clear()          # clear all elements in list , same as del l[:]\n",
    "l.copy()           # copy list , as if if just assigned to another variable then both variable will point to same list and change in one will affect other\n",
    "l.count(1)         # count number of times 1 is present in list , return 0 if not present\n",
    "\n",
    "\n",
    "l = [1, 2, 3, 4, 5]\n",
    "\n",
    "#  applying functions to list\n",
    "\n",
    "[x*x for x in l if x%2==0]    # square of each element in list with even value\n",
    "\n",
    "[lambda x: x*x for x in l if x%2==0]    # square of each element in list with even value with using lambda function\n",
    "\n",
    "\n",
    "#  nD list\n",
    "\n",
    "l = [[ 8 ,4 ] , [ 6 , 5 ] , [ 7 , 9 ]]\n",
    "\n",
    "#  sort list according 0th index of each sublist\n",
    "\n",
    "l.sort(key=lambda x: x[0])\n",
    "\n",
    "l\n"
   ]
  },
  {
   "cell_type": "markdown",
   "metadata": {},
   "source": [
    "# Tuples"
   ]
  },
  {
   "cell_type": "code",
   "execution_count": 22,
   "metadata": {},
   "outputs": [
    {
     "data": {
      "text/plain": [
       "0"
      ]
     },
     "execution_count": 22,
     "metadata": {},
     "output_type": "execute_result"
    }
   ],
   "source": [
    "# Tuples : tuple of values of same or different data types, unlike list, tuples are immutable i.e. they cannot be changed , but provides faster access\n",
    "\n",
    "t = (1, 2, 3, 4, 5 , \"hello\", \"world\")\n",
    "\n",
    "#  tuple methods  , CRUD operations are not supported\n",
    "\n",
    "t.count(1)         # count number of times 1 is present in tuple\n",
    "t.index(1)         # get index of 1 in tuple otherwise raise ValueError"
   ]
  },
  {
   "cell_type": "markdown",
   "metadata": {},
   "source": [
    "#  set"
   ]
  },
  {
   "cell_type": "code",
   "execution_count": 24,
   "metadata": {},
   "outputs": [
    {
     "data": {
      "text/plain": [
       "{1, 2, 3, 4, 5, 'hello', 'new', 'world'}"
      ]
     },
     "execution_count": 24,
     "metadata": {},
     "output_type": "execute_result"
    }
   ],
   "source": [
    "#  set : set of values of same or different data types, set can have only unique values\n",
    "        #   if duplicate values are present in set, only one value will be present in set\n",
    "\n",
    "s = {1, 2, 3, 4, 5 , \"hello\", \"world\"}\n",
    "\n",
    "#  set methods\n",
    "\n",
    "s.add(\"new\")       # add element to set\n",
    "s.union({\"new\"})   # union of two sets , same as s.add(new_set)"
   ]
  },
  {
   "cell_type": "markdown",
   "metadata": {},
   "source": [
    "#  dictionary "
   ]
  },
  {
   "cell_type": "code",
   "execution_count": 28,
   "metadata": {},
   "outputs": [
    {
     "data": {
      "text/plain": [
       "'John2'"
      ]
     },
     "execution_count": 28,
     "metadata": {},
     "output_type": "execute_result"
    }
   ],
   "source": [
    "#  dictionary : key-value pair, key is a string or number, value is a string or number , can not value duplicate keys\n",
    "\n",
    "d = {\"name\": \"John\", \"age\": 30, \"city\": \"New York\"}\n",
    "\n",
    "#  dictionary methods\n",
    "\n",
    "d.values()         # get all values in dictionary for iterating\n",
    "d.keys()           # get all keys in dictionary for iterating\n",
    "d.update({\"name\": \"John2\"})   # update dictionary with new key-value pair , same as d[\"name\"] = \"John2\"\n",
    "d.setdefault(\"name\", \"default\")   # get value of key if key is present in dictionary otherwise add key-value pair to dictionary and return value\n",
    "\n",
    "\n",
    "#  To Loop Through a Dictionary\n",
    "\n",
    "for key, value in d.items():\n",
    "    print(key, value)"
   ]
  }
 ],
 "metadata": {
  "kernelspec": {
   "display_name": "Python 3.8.7 64-bit",
   "language": "python",
   "name": "python3"
  },
  "language_info": {
   "codemirror_mode": {
    "name": "ipython",
    "version": 3
   },
   "file_extension": ".py",
   "mimetype": "text/x-python",
   "name": "python",
   "nbconvert_exporter": "python",
   "pygments_lexer": "ipython3",
   "version": "3.8.7"
  },
  "orig_nbformat": 4,
  "vscode": {
   "interpreter": {
    "hash": "b82bd812b6a37d04ba59de08f4dfa67a262de1c3e27303c0cb0a5b38b381c61f"
   }
  }
 },
 "nbformat": 4,
 "nbformat_minor": 2
}
