{
 "cells": [
  {
   "cell_type": "markdown",
   "metadata": {},
   "source": [
    "#  Data Structure\n",
    "### A data structure is a storage that is used to store and organize data. It is a way of arranging data on a computer so that it can be accessed and updated efficiently."
   ]
  },
  {
   "cell_type": "markdown",
   "metadata": {},
   "source": [
    "# List "
   ]
  },
  {
   "cell_type": "code",
   "execution_count": 2,
   "metadata": {},
   "outputs": [
    {
     "data": {
      "text/plain": [
       "[[6, 5], [7, 9], [8, 4]]"
      ]
     },
     "execution_count": 2,
     "metadata": {},
     "output_type": "execute_result"
    }
   ],
   "source": [
    "#  list : list of values of same or different data types\n",
    "\n",
    "# List comprehension offers a shorter syntax when you want to create a new list based on the values of an existing list.\n",
    "\n",
    "\n",
    "\n",
    "l = [1, 2, 3, 4, 5 , \"hello\", \"world\"]\n",
    "\n",
    "#  list methods\n",
    "\n",
    "l[0:5:2]           # start :  stop-1  :  step\n",
    "l[::-1]            # reverse\n",
    "l[-1:]          # last element in list\n",
    "l[-2:]          # last two elements in list\n",
    "l[-1::-1]          # get list in reverse order , same as list(reversed(l))\n",
    "# l*2                # duplicate list elements not multiply\n",
    "\n",
    "#  index :   0  1   2   3   4\n",
    "#           -5  -4  -3  -2  -1 \n",
    "\n",
    "# l.clear()          # clear all elements in list , same as del l[:]\n",
    "l.count(1)         # count number of times 1 is present in list \n",
    "l.index(1)         # get index of 1 in list otherwise raise ValueError\n",
    "l.insert(2, \"inserted\")   # index, value  ;  insert element at index 2 and side naxt value from index 2 with index + 1\n",
    "l.extend([\"extended\"])    # extend list with another list\n",
    "l.reverse()        # reverse list\n",
    "# l.sort()           # sort list  , same as sorted(l) , requires same data type for entire list\n",
    "l.pop()            # remove last element from list\n",
    "l.pop(2)           # remove element at index 2 from list\n",
    "l.remove(1)        # remove element 1 o from list if more than one occurances then remove first occured , if not present raise ValueError\n",
    "# l.clear()          # clear all elements in list , same as del l[:]\n",
    "l.copy()           # copy list , as if if just assigned to another variable then both variable will point to same list and change in one will affect other\n",
    "l.count(1)         # count number of times 1 is present in list , return 0 if not present\n",
    "\n",
    "\n",
    "l = [1, 2, 3, 4, 5]\n",
    "\n",
    "#  applying functions to list\n",
    "\n",
    "[x*x for x in l if x%2==0]    # square of each element in list with even value\n",
    "\n",
    "[lambda x: x*x for x in l if x%2==0]    # square of each element in list with even value with using lambda function\n",
    "\n",
    "\n",
    "#  nD list\n",
    "\n",
    "l = [[ 8 ,4 ] , [ 6 , 5 ] , [ 7 , 9 ]]\n",
    "\n",
    "#  sort list according 0th index of each sublist\n",
    "\n",
    "l.sort(key=lambda x: x[0])\n",
    "\n",
    "l\n"
   ]
  },
  {
   "cell_type": "markdown",
   "metadata": {},
   "source": [
    "# Tuples"
   ]
  },
  {
   "cell_type": "code",
   "execution_count": 22,
   "metadata": {},
   "outputs": [
    {
     "data": {
      "text/plain": [
       "0"
      ]
     },
     "execution_count": 22,
     "metadata": {},
     "output_type": "execute_result"
    }
   ],
   "source": [
    "# Tuples : tuple of values of same or different data types, unlike list, tuples are immutable i.e. they cannot be changed , but provides faster access\n",
    "\n",
    "t = (1, 2, 3, 4, 5 , \"hello\", \"world\")\n",
    "\n",
    "#  tuple methods  , CRUD operations are not supported\n",
    "\n",
    "t.count(1)         # count number of times 1 is present in tuple\n",
    "t.index(1)         # get index of 1 in tuple otherwise raise ValueError"
   ]
  },
  {
   "cell_type": "markdown",
   "metadata": {},
   "source": [
    "#  set"
   ]
  },
  {
   "cell_type": "code",
   "execution_count": 2,
   "metadata": {},
   "outputs": [],
   "source": [
    "#  set : set of values of same or different data types, set can have only unique values\n",
    "        #   if duplicate values are present in set, only one value will be present in set\n",
    "\n",
    "s = {1, 2, 3, 4, 5 , \"hello\", \"world\"}\n",
    "\n",
    "#  set methods\n",
    "\n",
    "s.add(\"new\")       # add element to set\n",
    "s.union({\"new\"})   # union of two sets , same as s.add(new_set)\n",
    "\n",
    "# 2 types of set : 1. mutable set 2. immutable set (frozenset)\n",
    "\n",
    "s = {1, 2, 3, 4, 5 , \"hello\", \"world\"}   # mutable set\n",
    "\n",
    "s.add(\"new\")       # add element to set\n",
    "\n",
    "fs = frozenset({1, 2, 3, 4, 5 , \"hello\", \"world\"})   # immutable set\n",
    "\n",
    "# fs.add(\"new\")       # add element to set , raise AttributeError"
   ]
  },
  {
   "cell_type": "markdown",
   "metadata": {},
   "source": [
    "#  dictionary "
   ]
  },
  {
   "cell_type": "code",
   "execution_count": 28,
   "metadata": {},
   "outputs": [
    {
     "data": {
      "text/plain": [
       "'John2'"
      ]
     },
     "execution_count": 28,
     "metadata": {},
     "output_type": "execute_result"
    }
   ],
   "source": [
    "#  dictionary : key-value pair, key is a string or number, value is a string or number , can not value duplicate keys\n",
    "\n",
    "d = {\"name\": \"John\", \"age\": 30, \"city\": \"New York\"}\n",
    "\n",
    "#  dictionary methods\n",
    "\n",
    "d.values()         # get all values in dictionary for iterating\n",
    "d.keys()           # get all keys in dictionary for iterating\n",
    "d.update({\"name\": \"John2\"})   # update dictionary with new key-value pair , same as d[\"name\"] = \"John2\"\n",
    "d.setdefault(\"name\", \"default\")   # get value of key if key is present in dictionary otherwise add key-value pair to dictionary and return value\n",
    "\n",
    "\n",
    "#  To Loop Through a Dictionary\n",
    "\n",
    "for key, value in d.items():\n",
    "    print(key, value)"
   ]
  },
  {
   "cell_type": "markdown",
   "metadata": {},
   "source": [
    "# Array"
   ]
  },
  {
   "cell_type": "code",
   "execution_count": 4,
   "metadata": {},
   "outputs": [
    {
     "name": "stdout",
     "output_type": "stream",
     "text": [
      "init Array a :  array('i', [1, 2, 3, 4, 5])\n",
      "Array a :  array('i', [9, 8, 6, 5, 4, 3, 7, 2, 1])\n"
     ]
    }
   ],
   "source": [
    "#  Python can not implement array directly \n",
    "\n",
    "#  numpy : numerical python , provides nD array , array can have only one data type\n",
    "# array : array is library in python \n",
    "\n",
    "import array as arr       # implement array from list \n",
    "\n",
    "a = arr.array('i', [1, 2, 3, 4, 5])   #  (array name , list of values)\n",
    "print(\"init Array a : \", a)\n",
    "\n",
    "#  array methods\n",
    "\n",
    "a.append(6)        # add element to array\n",
    "a.insert(2, 7)     # insert element at index 2 and side naxt value from index 2 with index + 1\n",
    "a.extend([8, 9])   # extend array with another array\n",
    "a.reverse()        # reverse array\n",
    "\n",
    "print(\"Array a : \", a)"
   ]
  },
  {
   "cell_type": "code",
   "execution_count": 32,
   "metadata": {},
   "outputs": [
    {
     "name": "stdout",
     "output_type": "stream",
     "text": [
      "Array arr :  [[ 1  2  3  4  5  0]\n",
      " [ 6  7  8  9 10  0]]\n",
      "Flattened Array arr :  [ 1  2  3  4  5  0  6  7  8  9 10  0]\n"
     ]
    },
    {
     "data": {
      "text/plain": [
       "4"
      ]
     },
     "execution_count": 32,
     "metadata": {},
     "output_type": "execute_result"
    }
   ],
   "source": [
    "import numpy as np\n",
    "\n",
    "arr = np.array([[1, 2, 3, 4, 5 , 0] , [6, 7, 8, 9, 10 , 0]])   # 2D array\n",
    "\n",
    "print(\"Array arr : \", arr)\n",
    "\n",
    "#  numpy array methods\n",
    "\n",
    "arr.argmax()       # get index of maximum value in array , if N-D array then return index of maximum value in flattened array\n",
    "\n",
    "arr.argmin()       # get index of minimum value in array , if N-D array then return index of minimum value in flattened array\n",
    "\n",
    "arr.argsort()      # get index of sorted array , if N-D array then return index of sorted array in flattened array\n",
    "\n",
    "flattened_arr = arr.flatten()   # flatten array   OR   flattened_arr = arr.ravel()\n",
    "\n",
    "print(\"Flattened Array arr : \", flattened_arr)\n",
    "\n",
    "arr.reshape(3 , 2, 2)   # reshape array , only if total number of elements in array is same as before , can convert 1D array to N-D array\n",
    "\n",
    "arr.reshape(1,12)   #  No of Column , No of Row    # 1 , N to flatten array\n",
    "\n",
    "arr.T    # transpose array\n",
    "\n",
    "arr.shape    # get shape of array\n",
    "\n",
    "arr.size    # get size of array i.e. total number of elements in array\n",
    "\n",
    "arr.diagonal()    # get diagonal elements of array\n",
    "\n",
    "arr.diagonal(offset=1)    # get diagonal elements of array with offset means start from index 1(offset) and get diagonal elements\n",
    "\n",
    "arr.dtype    # get data type of array , also can be used to change data type of array  like arr.dtype = np.int64\n",
    "\n",
    "arr.astype(np.int64)    # change data type of array\n",
    "\n",
    "arr.itemsize    # get size of each element in array in bytes\n",
    "\n",
    "\n"
   ]
  },
  {
   "cell_type": "markdown",
   "metadata": {},
   "source": [
    "# Stack"
   ]
  },
  {
   "cell_type": "code",
   "execution_count": 36,
   "metadata": {},
   "outputs": [
    {
     "data": {
      "text/plain": [
       "False"
      ]
     },
     "execution_count": 36,
     "metadata": {},
     "output_type": "execute_result"
    }
   ],
   "source": [
    "#  stack can be implemented using list , but list is not efficient for stack operations\n",
    "\n",
    "# stack : stack is a data structure which follows LIFO (last in first out) principle\n",
    "\n",
    "#  stack methods\n",
    "\n",
    "stack = [1, 2, 3, 4, 5]\n",
    "\n",
    "#  Push\n",
    "stack.append(6)    # add element to stack\n",
    "\n",
    "# Pop\n",
    "stack.pop()        # remove top element from stack\n",
    "\n",
    "# Peek\n",
    "stack[-1]          # get top element of stack\n",
    "\n",
    "# search\n",
    "stack.index(1)     # get index of element 1 in stack , if not present then raise ValueError\n",
    "\n",
    "#  stack underflow : when stack is empty and we try to pop element from stack\n",
    "stack.pop()        # raise IndexError when length of stack is 0\n",
    "\n",
    "#  stack overflow : when stack is full and we try to push element in stack\n",
    "stack.append(6)    # raise IndexError when length of stack is full\n",
    "\n",
    "#  stack empty : when stack is empty\n",
    "len(stack) == 0    # return True if stack is empty otherwise False\n",
    "\n",
    "\n",
    "# Application of the Stack\n",
    "\n",
    "# A Stack can be used for evaluating expressions consisting of operands and operators.\n",
    "# Stacks can be used for Backtracking, i.e., to check parenthesis matching in an expression.\n",
    "# It can also be used to convert one form of expression to another form.\n",
    "# It can be used for systematic Memory Management.\n",
    "\n",
    "#  Limitations of Stack\n",
    "\n",
    "# It is difficult in Stack to create many objects as it increases the risk of the Stack overflow.\n",
    "# It has very limited memory.\n",
    "# In Stack, random access is not possible."
   ]
  },
  {
   "cell_type": "markdown",
   "metadata": {},
   "source": [
    "# Queue"
   ]
  },
  {
   "cell_type": "code",
   "execution_count": 37,
   "metadata": {},
   "outputs": [
    {
     "data": {
      "text/plain": [
       "2"
      ]
     },
     "execution_count": 37,
     "metadata": {},
     "output_type": "execute_result"
    }
   ],
   "source": [
    "#  Queue : queue is a data structure which follows FIFO (first in first out) principle\n",
    "\n",
    "#  Types of Queue : 1. Linear Queue 2. Circular Queue 3. Priority Queue\n",
    "\n",
    "#  queue methods\n",
    "\n",
    "queue = [1, 2, 3, 4, 5]   #    Remove <- 1, 2, 3, 4, 5 <- Add\n",
    "\n",
    "#  Enqueue\n",
    "queue.append(6)    # add element to queue\n",
    "\n",
    "# Dequeue\n",
    "queue.pop(0)       # remove first element from queue\n",
    "\n",
    "# Peek\n",
    "queue[0]           # get first element of queue\n",
    "\n",
    "#  Queue Application\n",
    "\n",
    "#  Multiple processes that share a common resource can use queues.\n",
    "# When data is transferred asynchronously (data not necessarily received at same rate as sent) between two processes. (Networking)\n",
    "# Call Center phone systems use Queues to hold people calling them in an order, until a service representative is free.\n",
    "# Handling of interrupts in real-time systems.\n",
    "# Job scheduling, Disk Scheduling.\n",
    "\n",
    "# Limitations of Queue\n",
    "\n",
    "# The operations such as insertion and deletion of elements from the middle are time consuming.\n",
    "# Limited Space.\n",
    "# In a classical queue, a new element can only be inserted when the existing elements are deleted from the queue.\n",
    "# Searching an element takes O(N) time.\n",
    "# Maximum size of a queue must be defined prior.\n"
   ]
  },
  {
   "cell_type": "markdown",
   "metadata": {},
   "source": [
    "# Deque (Double Ended Queue)"
   ]
  },
  {
   "cell_type": "code",
   "execution_count": 43,
   "metadata": {},
   "outputs": [
    {
     "data": {
      "text/plain": [
       "0"
      ]
     },
     "execution_count": 43,
     "metadata": {},
     "output_type": "execute_result"
    }
   ],
   "source": [
    "\n",
    "from collections import deque\n",
    "\n",
    "#  deque : double ended queue , can be used as stack and queue , It does not follow FIFO (first in first out) rule.\n",
    "\n",
    "#  deque methods\n",
    "\n",
    "d = deque([1, 2, 3, 4, 5])   #    Remove, Add <- 1, 2, 3, 4, 5 <- Add ,Remove\n",
    "\n",
    "#  Append\n",
    "d.append(6)    # add element to deque from right side\n",
    "d.appendleft(0)    # add element to deque from left side\n",
    "\n",
    "# Pop\n",
    "d.pop()        # remove element from deque from right side\n",
    "d.popleft()    # remove element from deque from left side\n",
    "\n",
    "# Peek\n",
    "d[-1]          # get last element of deque\n",
    "d[0]           # get first element of deque\n",
    "\n",
    "# Search\n",
    "d.index(1)     # get index of element 1 in deque , if not present then raise ValueError\n",
    "\n",
    "\n",
    "# Deque Application\n",
    "\n",
    "# It is used in job scheduling algorithms.\n",
    "# If support both stack and queue operations.\n",
    "# The clockwise and anti-clockwise rotation operations in deque are performed in O(1) time which is helpful in many problems.\n",
    "\n",
    "# Limitations of Deque\n",
    "\n",
    "# Deque has no fixed limitations for the number of elements they may contain. \n",
    "#       This interface supports capacity-restricted deques as well as the deques with no fixed size limit.\n",
    "# They are less memory efficient than a normal queue."
   ]
  },
  {
   "cell_type": "markdown",
   "metadata": {},
   "source": [
    "# Priority Queue"
   ]
  },
  {
   "cell_type": "code",
   "execution_count": null,
   "metadata": {},
   "outputs": [],
   "source": []
  },
  {
   "cell_type": "markdown",
   "metadata": {},
   "source": [
    "# Linked List"
   ]
  },
  {
   "cell_type": "code",
   "execution_count": null,
   "metadata": {},
   "outputs": [],
   "source": []
  },
  {
   "cell_type": "markdown",
   "metadata": {},
   "source": [
    "# Non Linear Data Structure\n",
    "\n",
    "#### \n",
    "\n",
    "\n",
    "# Tree"
   ]
  },
  {
   "cell_type": "code",
   "execution_count": null,
   "metadata": {},
   "outputs": [],
   "source": []
  },
  {
   "cell_type": "markdown",
   "metadata": {},
   "source": [
    "# Graph"
   ]
  }
 ],
 "metadata": {
  "kernelspec": {
   "display_name": "Python 3.8.7 64-bit",
   "language": "python",
   "name": "python3"
  },
  "language_info": {
   "codemirror_mode": {
    "name": "ipython",
    "version": 3
   },
   "file_extension": ".py",
   "mimetype": "text/x-python",
   "name": "python",
   "nbconvert_exporter": "python",
   "pygments_lexer": "ipython3",
   "version": "3.8.7"
  },
  "orig_nbformat": 4,
  "vscode": {
   "interpreter": {
    "hash": "b82bd812b6a37d04ba59de08f4dfa67a262de1c3e27303c0cb0a5b38b381c61f"
   }
  }
 },
 "nbformat": 4,
 "nbformat_minor": 2
}
