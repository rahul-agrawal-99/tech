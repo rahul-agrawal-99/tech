{
 "cells": [
  {
   "cell_type": "markdown",
   "metadata": {},
   "source": [
    "#  Data Structure\n",
    "### A data structure is a storage that is used to store and organize data. It is a way of arranging data on a computer so that it can be accessed and updated efficiently.\n",
    "\n",
    "### Application of data structure\n",
    "\n",
    "#### 1. Decision making\n",
    "#### 2. Blockchain\n",
    "#### 3. Data mining\n",
    "#### 4. DataBase\n",
    "#### 5. Compiler Design\n",
    "\n",
    "### Types of data structure\n",
    "#### 1. Primitive data structure  -> data structure that stores the data of only one type. e.g. integer, character, float.\n",
    "#### 2. Non-Pimitive data structure  -> data structure that can store the data of more than one type. e.g. array, linked list, stack, queue, tree, graph.\n",
    "### Again there are two types of Non-Primitive data structure\n",
    "#### 1. Linear data structure  -> data structure that stores the data in a linear(sequentially) fashion. e.g. array, linked list, stack, queue.\n",
    "#### 2. Non-Linear data structure  -> data structure that stores the data in a non-linear fashion. e.g. tree, graph."
   ]
  },
  {
   "cell_type": "markdown",
   "metadata": {},
   "source": [
    "# List "
   ]
  },
  {
   "cell_type": "code",
   "execution_count": 2,
   "metadata": {},
   "outputs": [
    {
     "data": {
      "text/plain": [
       "[[6, 5], [7, 9], [8, 4]]"
      ]
     },
     "execution_count": 2,
     "metadata": {},
     "output_type": "execute_result"
    }
   ],
   "source": [
    "#  list : list of values of same or different data types\n",
    "\n",
    "# List comprehension offers a shorter syntax when you want to create a new list based on the values of an existing list.\n",
    "\n",
    "\n",
    "\n",
    "l = [1, 2, 3, 4, 5 , \"hello\", \"world\"]\n",
    "\n",
    "#  list methods\n",
    "\n",
    "l[0:5:2]           # start :  stop-1  :  step\n",
    "l[::-1]            # reverse\n",
    "l[-1:]          # last element in list\n",
    "l[-2:]          # last two elements in list\n",
    "l[-1::-1]          # get list in reverse order , same as list(reversed(l))\n",
    "# l*2                # duplicate list elements not multiply\n",
    "\n",
    "#  index :   0  1   2   3   4\n",
    "#           -5  -4  -3  -2  -1 \n",
    "\n",
    "# l.clear()          # clear all elements in list , same as del l[:]\n",
    "l.count(1)         # count number of times 1 is present in list \n",
    "l.index(1)         # get index of 1 in list otherwise raise ValueError\n",
    "l.insert(2, \"inserted\")   # index, value  ;  insert element at index 2 and side naxt value from index 2 with index + 1\n",
    "l.extend([\"extended\"])    # extend list with another list\n",
    "l.reverse()        # reverse list\n",
    "# l.sort()           # sort list  , same as sorted(l) , requires same data type for entire list\n",
    "l.pop()            # remove last element from list\n",
    "l.pop(2)           # remove element at index 2 from list\n",
    "l.remove(1)        # remove element 1 o from list if more than one occurances then remove first occured , if not present raise ValueError\n",
    "# l.clear()          # clear all elements in list , same as del l[:]\n",
    "l.copy()           # copy list , as if if just assigned to another variable then both variable will point to same list and change in one will affect other\n",
    "l.count(1)         # count number of times 1 is present in list , return 0 if not present\n",
    "\n",
    "\n",
    "l = [1, 2, 3, 4, 5]\n",
    "\n",
    "#  applying functions to list\n",
    "\n",
    "[x*x for x in l if x%2==0]    # square of each element in list with even value\n",
    "\n",
    "[lambda x: x*x for x in l if x%2==0]    # square of each element in list with even value with using lambda function\n",
    "\n",
    "\n",
    "#  nD list\n",
    "\n",
    "l = [[ 8 ,4 ] , [ 6 , 5 ] , [ 7 , 9 ]]\n",
    "\n",
    "#  sort list according 0th index of each sublist\n",
    "\n",
    "l.sort(key=lambda x: x[0])\n",
    "\n",
    "l\n"
   ]
  },
  {
   "cell_type": "markdown",
   "metadata": {},
   "source": [
    "# Tuples"
   ]
  },
  {
   "cell_type": "code",
   "execution_count": 22,
   "metadata": {},
   "outputs": [
    {
     "data": {
      "text/plain": [
       "0"
      ]
     },
     "execution_count": 22,
     "metadata": {},
     "output_type": "execute_result"
    }
   ],
   "source": [
    "# Tuples : tuple of values of same or different data types, unlike list, tuples are immutable i.e. they cannot be changed , but provides faster access\n",
    "\n",
    "t = (1, 2, 3, 4, 5 , \"hello\", \"world\")\n",
    "\n",
    "#  tuple methods  , CRUD operations are not supported\n",
    "\n",
    "t.count(1)         # count number of times 1 is present in tuple\n",
    "t.index(1)         # get index of 1 in tuple otherwise raise ValueError"
   ]
  },
  {
   "cell_type": "markdown",
   "metadata": {},
   "source": [
    "#  set"
   ]
  },
  {
   "cell_type": "code",
   "execution_count": 2,
   "metadata": {},
   "outputs": [],
   "source": [
    "#  set : set of values of same or different data types, set can have only unique values\n",
    "        #   if duplicate values are present in set, only one value will be present in set\n",
    "\n",
    "s = {1, 2, 3, 4, 5 , \"hello\", \"world\"}\n",
    "\n",
    "#  set methods\n",
    "\n",
    "s.add(\"new\")       # add element to set\n",
    "s.union({\"new\"})   # union of two sets , same as s.add(new_set)\n",
    "\n",
    "# 2 types of set : 1. mutable set 2. immutable set (frozenset)\n",
    "\n",
    "s = {1, 2, 3, 4, 5 , \"hello\", \"world\"}   # mutable set\n",
    "\n",
    "s.add(\"new\")       # add element to set\n",
    "\n",
    "fs = frozenset({1, 2, 3, 4, 5 , \"hello\", \"world\"})   # immutable set\n",
    "\n",
    "# fs.add(\"new\")       # add element to set , raise AttributeError"
   ]
  },
  {
   "cell_type": "markdown",
   "metadata": {},
   "source": [
    "#  dictionary "
   ]
  },
  {
   "cell_type": "code",
   "execution_count": 28,
   "metadata": {},
   "outputs": [
    {
     "data": {
      "text/plain": [
       "'John2'"
      ]
     },
     "execution_count": 28,
     "metadata": {},
     "output_type": "execute_result"
    }
   ],
   "source": [
    "#  dictionary : key-value pair, key is a string or number, value is a string or number , can not value duplicate keys\n",
    "\n",
    "d = {\"name\": \"John\", \"age\": 30, \"city\": \"New York\"}\n",
    "\n",
    "#  dictionary methods\n",
    "\n",
    "d.values()         # get all values in dictionary for iterating\n",
    "d.keys()           # get all keys in dictionary for iterating\n",
    "d.update({\"name\": \"John2\"})   # update dictionary with new key-value pair , same as d[\"name\"] = \"John2\"\n",
    "d.setdefault(\"name\", \"default\")   # get value of key if key is present in dictionary otherwise add key-value pair to dictionary and return value\n",
    "\n",
    "\n",
    "#  To Loop Through a Dictionary\n",
    "\n",
    "for key, value in d.items():\n",
    "    print(key, value)"
   ]
  },
  {
   "cell_type": "markdown",
   "metadata": {},
   "source": [
    "# Array"
   ]
  },
  {
   "cell_type": "code",
   "execution_count": 4,
   "metadata": {},
   "outputs": [
    {
     "name": "stdout",
     "output_type": "stream",
     "text": [
      "init Array a :  array('i', [1, 2, 3, 4, 5])\n",
      "Array a :  array('i', [9, 8, 6, 5, 4, 3, 7, 2, 1])\n"
     ]
    }
   ],
   "source": [
    "#  Python can not implement array directly \n",
    "\n",
    "## array data structure is a data structure that is used to store data in a way that is efficient and easy to access. It is similar to a list in that it stores data in a sequence. \n",
    "## However, an array data structure differs from a list in that it can hold much more data than a list can.\n",
    "\n",
    "#  numpy : numerical python , provides nD array , array can have only one data type\n",
    "# array : array is library in python \n",
    "\n",
    "import array as arr       # implement array from list \n",
    "\n",
    "a = arr.array('i', [1, 2, 3, 4, 5])   #  (array name , list of values)\n",
    "print(\"init Array a : \", a)\n",
    "\n",
    "#  array methods\n",
    "\n",
    "a.append(6)        # add element to array\n",
    "a.insert(2, 7)     # insert element at index 2 and side naxt value from index 2 with index + 1\n",
    "a.extend([8, 9])   # extend array with another array\n",
    "a.reverse()        # reverse array\n",
    "\n",
    "print(\"Array a : \", a)\n",
    "\n",
    "\n",
    "# Time complexity of array operations\n",
    "\n",
    "## Operation  |  Time Complexity\n",
    "\n",
    "## Access        |  O(1)        using index\n",
    "## Search       |  O(n)         linear search , log(n) binary search if array is sorted\n",
    "## Insertion   |  O(1)        at end\n",
    "## Insertion  |  O(n)     at specific index\n",
    "## Deletion  |  O(n)       requires shifting of elements\n"
   ]
  },
  {
   "cell_type": "code",
   "execution_count": 32,
   "metadata": {},
   "outputs": [
    {
     "name": "stdout",
     "output_type": "stream",
     "text": [
      "Array arr :  [[ 1  2  3  4  5  0]\n",
      " [ 6  7  8  9 10  0]]\n",
      "Flattened Array arr :  [ 1  2  3  4  5  0  6  7  8  9 10  0]\n"
     ]
    },
    {
     "data": {
      "text/plain": [
       "4"
      ]
     },
     "execution_count": 32,
     "metadata": {},
     "output_type": "execute_result"
    }
   ],
   "source": [
    "import numpy as np\n",
    "\n",
    "arr = np.array([[1, 2, 3, 4, 5 , 0] , [6, 7, 8, 9, 10 , 0]])   # 2D array\n",
    "\n",
    "print(\"Array arr : \", arr)\n",
    "\n",
    "#  numpy array methods\n",
    "\n",
    "arr.argmax()       # get index of maximum value in array , if N-D array then return index of maximum value in flattened array\n",
    "\n",
    "arr.argmin()       # get index of minimum value in array , if N-D array then return index of minimum value in flattened array\n",
    "\n",
    "arr.argsort()      # get index of sorted array , if N-D array then return index of sorted array in flattened array\n",
    "\n",
    "flattened_arr = arr.flatten()   # flatten array   OR   flattened_arr = arr.ravel()\n",
    "\n",
    "print(\"Flattened Array arr : \", flattened_arr)\n",
    "\n",
    "arr.reshape(3 , 2, 2)   # reshape array , only if total number of elements in array is same as before , can convert 1D array to N-D array\n",
    "\n",
    "arr.reshape(1,12)   #  No of Column , No of Row    # 1 , N to flatten array\n",
    "\n",
    "arr.T    # transpose array\n",
    "\n",
    "arr.shape    # get shape of array\n",
    "\n",
    "arr.size    # get size of array i.e. total number of elements in array\n",
    "\n",
    "arr.diagonal()    # get diagonal elements of array\n",
    "\n",
    "arr.diagonal(offset=1)    # get diagonal elements of array with offset means start from index 1(offset) and get diagonal elements\n",
    "\n",
    "arr.dtype    # get data type of array , also can be used to change data type of array  like arr.dtype = np.int64\n",
    "\n",
    "arr.astype(np.int64)    # change data type of array\n",
    "\n",
    "arr.itemsize    # get size of each element in array in bytes\n",
    "\n",
    "\n"
   ]
  },
  {
   "cell_type": "markdown",
   "metadata": {},
   "source": [
    "# Stack"
   ]
  },
  {
   "cell_type": "code",
   "execution_count": 5,
   "metadata": {},
   "outputs": [
    {
     "name": "stdout",
     "output_type": "stream",
     "text": [
      "Pop 6\n",
      "Pop 4\n",
      "Pop 3\n",
      "Pop 2\n",
      "Pop 1\n",
      "stack before []  for item  1\n",
      "stack before [1]  for item  2\n",
      "stack before []  for item  2\n",
      "stack before [2, 1]  for item  3\n",
      "stack before [2]  for item  3\n",
      "stack before []  for item  3\n",
      "stack before [3, 2, 1]  for item  4\n",
      "stack before [3, 2]  for item  4\n",
      "stack before [3]  for item  4\n",
      "stack before []  for item  4\n",
      "stack before [4, 3, 2, 1]  for item  6\n",
      "stack before [4, 3, 2]  for item  6\n",
      "stack before [4, 3]  for item  6\n",
      "stack before [4]  for item  6\n",
      "stack before []  for item  6\n",
      "[6, 4, 3, 2, 1]\n"
     ]
    }
   ],
   "source": [
    "#  stack can be implemented using list , but list is not efficient for stack operations\n",
    "\n",
    "# stack : stack is a data structure which follows LIFO (last in first out) principle\n",
    "\n",
    "#  stack methods\n",
    "\n",
    "stack = [1, 2, 3, 4, 5]\n",
    "\n",
    "#  Push\n",
    "stack.append(6)    # add element to stack\n",
    "\n",
    "# Pop\n",
    "stack.pop()        # remove top element from stack\n",
    "\n",
    "# Peek/Top\n",
    "stack[-1]          # get top element of stack\n",
    "\n",
    "# search\n",
    "stack.index(1)     # get index of element 1 in stack , if not present then raise ValueError\n",
    "\n",
    "#  stack underflow : when stack is empty and we try to pop element from stack\n",
    "stack.pop()        # raise IndexError when length of stack is 0\n",
    "\n",
    "#  stack overflow : when stack is full and we try to push element in stack\n",
    "stack.append(6)    # raise IndexError when length of stack is full\n",
    "\n",
    "#  stack empty : when stack is empty\n",
    "len(stack) == 0    # return True if stack is empty otherwise False\n",
    "\n",
    "\n",
    "# Application of the Stack\n",
    "\n",
    "# Reversing string , infix to prefix , paranthesis matching , Redo or Undo , Back button in browser , Function call and return , Expression evaluation , Tower of Hanoi , etc.\n",
    "# A Stack can be used for evaluating expressions consisting of operands and operators.\n",
    "# Stacks can be used for Backtracking, i.e., to check parenthesis matching in an expression.\n",
    "# It can also be used to convert one form of expression to another form.\n",
    "# It can be used for systematic Memory Management.\n",
    "\n",
    "#  Limitations of Stack\n",
    "\n",
    "# It is difficult in Stack to create many objects as it increases the risk of the Stack overflow.\n",
    "# It has very limited memory.\n",
    "# In Stack, random access is not possible.\n",
    "\n",
    "\n",
    "# Reverse stack using recursion , time complexity : O(n^2) , space complexity : O(n) for recursion stack\n",
    "def inatbot(stack,item):\n",
    "    print(\"stack before\",stack , \" for item \",item)\n",
    "    if len(stack) == 0:\n",
    "        stack.append(item)\n",
    "    else:\n",
    "        temp = stack.pop()\n",
    "        inatbot(stack,item)\n",
    "        stack.append(temp)\n",
    "\n",
    "def rev(stack):\n",
    "    if len(stack) == 0:\n",
    "        return\n",
    "    item = stack.pop()\n",
    "    print(\"Pop\",item)\n",
    "    rev(stack)\n",
    "    inatbot(stack,item)\n",
    "\n",
    "rev(stack)\n",
    "print(stack)"
   ]
  },
  {
   "cell_type": "markdown",
   "metadata": {},
   "source": [
    "# Queue"
   ]
  },
  {
   "cell_type": "code",
   "execution_count": 37,
   "metadata": {},
   "outputs": [
    {
     "data": {
      "text/plain": [
       "2"
      ]
     },
     "execution_count": 37,
     "metadata": {},
     "output_type": "execute_result"
    }
   ],
   "source": [
    "#  Queue : queue is a data structure which follows FIFO (first in first out) principle\n",
    "\n",
    "#  Types of Queue : 1. Linear Queue (single / Double ended) 2. Circular Queue 3. Priority Queue\n",
    "\n",
    "#  queue methods\n",
    "\n",
    "queue = [1, 2, 3, 4, 5]   #    Remove <- 1, 2, 3, 4, 5 <- Add\n",
    "\n",
    "#  Enqueue\n",
    "queue.append(6)    # add element to queue\n",
    "\n",
    "# Dequeue\n",
    "queue.pop(0)       # remove first element from queue\n",
    "\n",
    "# Front\n",
    "queue[-1]           # get first element to be enqueue\n",
    "\n",
    "# rear\n",
    "queue[0]             # get last element to be enqueue\n",
    "\n",
    "#  Queue Application\n",
    "\n",
    "# BFS (Breadth First Search) algorithm uses Queue to traverse the graph level by level. \n",
    "#  Multiple processes that share a common resource can use queues.\n",
    "# When data is transferred asynchronously (data not necessarily received at same rate as sent) between two processes. (Networking)\n",
    "# Call Center phone systems use Queues to hold people calling them in an order, until a service representative is free.\n",
    "# Handling of interrupts in real-time systems.\n",
    "# Job scheduling, Disk Scheduling.\n",
    "\n",
    "# Limitations of Queue\n",
    "\n",
    "# The operations such as insertion and deletion of elements from the middle are time consuming.\n",
    "# Limited Space.\n",
    "# In a classical queue, a new element can only be inserted when the existing elements are deleted from the queue.\n",
    "# Searching an element takes O(N) time.\n",
    "# Maximum size of a queue must be defined prior.\n",
    "\n",
    "\n",
    "# Stack VS Queue\n",
    "\n",
    "##  LIFO       FIFO\n",
    "##  Push       Enqueue\n",
    "##  Pop        Dequeue\n",
    "##  TOP        Front, Rear  (1 vs 2 pointers)\n",
    "## Recursive  Iterative/sequential\n",
    "\n",
    "\n",
    "# Queue using Stack\n",
    "\n",
    "#  enqueue Optimized ->  push new data to stack1 for enqueue , \n",
    "#  for dequeue -> pop all elements from stack1 and push to stack2 and pop Top from stack2 and again push all elements from stack2 to stack1\n",
    "#  Here  enqueue is O(1) and dequeue is O(n)\n",
    "\n",
    "#  dequeue Optimized -> Pop top element from stack1 for dequeue ,\n",
    "#  for enqueue -> push new data to stack2 and pop all elements from stack1 and push to stack2 and again push all elements from stack2 to stack1\n",
    "#  Here  enqueue is O(n) and dequeue is O(1)\n",
    "\n"
   ]
  },
  {
   "cell_type": "markdown",
   "metadata": {},
   "source": [
    "# Deque (Double Ended Queue)"
   ]
  },
  {
   "cell_type": "code",
   "execution_count": 43,
   "metadata": {},
   "outputs": [
    {
     "data": {
      "text/plain": [
       "0"
      ]
     },
     "execution_count": 43,
     "metadata": {},
     "output_type": "execute_result"
    }
   ],
   "source": [
    "\n",
    "from collections import deque\n",
    "\n",
    "#  deque : double ended queue , can be used as stack and queue , It does not follow FIFO (first in first out) rule.\n",
    "\n",
    "#  deque methods\n",
    "\n",
    "d = deque([1, 2, 3, 4, 5])   #    Remove, Add <- 1, 2, 3, 4, 5 <- Add ,Remove\n",
    "\n",
    "#  Append\n",
    "d.append(6)    # add element to deque from right side\n",
    "d.appendleft(0)    # add element to deque from left side\n",
    "\n",
    "# Pop\n",
    "d.pop()        # remove element from deque from right side\n",
    "d.popleft()    # remove element from deque from left side\n",
    "\n",
    "# Peek\n",
    "d[-1]          # get last element of deque\n",
    "d[0]           # get first element of deque\n",
    "\n",
    "# Search\n",
    "d.index(1)     # get index of element 1 in deque , if not present then raise ValueError\n",
    "\n",
    "\n",
    "# Deque Application\n",
    "\n",
    "# It is used in job scheduling algorithms.\n",
    "# If support both stack and queue operations.\n",
    "# The clockwise and anti-clockwise rotation operations in deque are performed in O(1) time which is helpful in many problems.\n",
    "\n",
    "# Limitations of Deque\n",
    "\n",
    "# Deque has no fixed limitations for the number of elements they may contain. \n",
    "#       This interface supports capacity-restricted deques as well as the deques with no fixed size limit.\n",
    "# They are less memory efficient than a normal queue."
   ]
  },
  {
   "cell_type": "markdown",
   "metadata": {},
   "source": [
    "# Priority Queue"
   ]
  },
  {
   "cell_type": "code",
   "execution_count": null,
   "metadata": {},
   "outputs": [],
   "source": [
    "# Priority Queue is an abstract data type that is similar to a queue in that each element is assigned a priority value. \n",
    "# The order in which elements in a priority queue are served is determined by their priority (i.e., the order in which they are removed). \n",
    "# If the elements have the same priority, they are served in the order they appear in the queue.\n",
    "\n",
    "#  Priority Queue Application\n",
    "## 1. CPU Scheduling\n",
    "## 2. Graph algorithms like Dijkstra’s shortest path algorithm, Prim’s Minimum Spanning Tree, etc\n",
    "## 3. All queue applications where priority is involved like Huffman Coding, etc."
   ]
  },
  {
   "cell_type": "markdown",
   "metadata": {},
   "source": [
    "# Linked List"
   ]
  },
  {
   "cell_type": "code",
   "execution_count": null,
   "metadata": {},
   "outputs": [],
   "source": [
    "# A linked list can be thought of as a series of linked nodes (or items) that are connected by links (or paths). \n",
    "#  Each link represents an entry into the linked list, and each entry points to the next node in the sequence.\n",
    "\n",
    "# Head : Head is the first node of the linked list.\n",
    "# Tail : Tail is the last node of the linked list.\n",
    "\n",
    "# Linked List : 1. Singly Linked List 2. Doubly Linked List 3. Circular Linked List\n",
    "\n",
    "\n",
    "# HEAD -> pointer to first node -> pointer to second node -> pointer to third node  -> Null\n",
    "\n",
    "\n",
    "#  Singly Linked List : Each node has a pointer to the next node in the list. Null is set as the pointer of the last node.\n",
    "\n",
    "#  Doubly Linked List : Each node has a pointer to the next node and previous node in the list. Null is set as the pointer of the first Prev and last next node.\n",
    "\n",
    "# Circular Linked List : The last node of the list points to the first node of the list. can be singly or doubly linked list.\n",
    "\n",
    "\n",
    "\n",
    "# Linked List Time Complexity\n",
    "\n",
    "#  Operation               Singly Linked List    Doubly Linked List     Array\n",
    "#  Access                     O(n)                  O(n)                 O(1) by index \n",
    "#  Search                     O(n)                  O(n)                  O(n)\n",
    "#  Insertion(last index)       O(n)                  O(1)                 O(1)                O(n) due to iterating through all node in linked list                                  \n",
    "#  Insertion(first index)      O(1)                 O(1)                 O(n)                                      \n",
    "#  Insertion(any index)       O(n)                  O(n)                  O(n) via shifting\n",
    "#  Deletion by value          O(1)                  O(1)                  O(n) via shifting\n",
    "#  Deletion by index          O(n)                  O(n)                 O(1) nut O(n) due to shifting\n",
    "\n",
    "\n",
    "class node:\n",
    "    def __init__(self,data):\n",
    "        self.data = data\n",
    "        self.next = None\n",
    "\n",
    "a = node(1)\n",
    "b = a.next = node(2)\n",
    "c = b.next = node(3)\n",
    "d = c.next = node(4)\n",
    "e = d.next = node(5)\n",
    "\n",
    "while a is not None:\n",
    "    print(a.data)\n",
    "    a = a.next\n",
    "\n",
    "\n",
    "# advantages of Linked List\n",
    "\n",
    "# 1. Dynamic Size\n",
    "# 2. Ease of insertion/deletion\n",
    "\n",
    "# Applications of Linked List\n",
    "\n",
    "# 1. Implementation of stacks and queues , graphs , trees , etc.\n",
    "# 2.  Memory management in operating systems\n",
    "# 3.  RR scheduling algorithm\n",
    "# 4.  forward and backward traversal in web browsers\n",
    "\n",
    "\n",
    "# Array VS Linked List\n",
    "\n",
    "# 1. Arrays are stored in contiguous memory locations, whereas linked lists are stored in non-contiguous memory locations.\n",
    "# 2. Arrays are static data structures, whereas linked lists are dynamic data structures. means memory allocation is done at run time.\n",
    "# 3. Arrays elements can be accessed randomly, whereas linked list elements can be accessed sequentially.\n",
    "# 4. Arrays are efficient in accessing elements, whereas linked lists are efficient in inserting and deleting elements.\n",
    "# 5. Arrays elemetns does not dependent on each other, whereas linked list elements are dependent on each other.\n",
    "\n"
   ]
  },
  {
   "cell_type": "markdown",
   "metadata": {},
   "source": [
    "### Hash\n",
    "### HashMap\n",
    "#### Hashmap is a data structure that uses an implementation of a hash table data structure which allows access to data in constant time (O(1)) complexity if you have the key\n",
    "### Map\n",
    "### "
   ]
  },
  {
   "cell_type": "markdown",
   "metadata": {},
   "source": [
    "# Non Linear Data Structure\n",
    "\n",
    "\n",
    "# Tree\n",
    "\n",
    "####  tree is a widely used abstract data type that represents a hierarchical tree structure with a set of connected nodes. it has 1:N reletionship\n",
    "\n",
    "## Types of Tree\n",
    "\n",
    "### 1. Binary Tree\n",
    "#### Binary Tree is defined as a Tree data structure with at most 2 children.\n",
    "#### Maximum number of nodes at level ‘l’ of a binary tree is 2^l . E.g. Maximum number of nodes at level 3 is 2^3 = 8.\n",
    "#### Minimum number of nodes in a binary tree of height ‘h’ is h+1. E.g. Minimum number of nodes in a binary tree of height 3 is 3+1 = 4.\n",
    "#### Search operation in a binary tree is O(N) in worst case. also requires O(N) extra space due to recursion required for the function call stack.\n",
    "\n",
    "\n",
    "### 2. Binary Search Tree\n",
    "#### BST is a binary tree in which the value of all the nodes in the left sub-tree is less than or equal to the value of the root which is less than or equal to the value of all the nodes in the right sub-tree. \n",
    "#### Search operation in a BST is O(h) where h is the height of the tree. In worst case, we may have to travel from root to the deepest leaf node. The height of a skewed tree may become n and the time complexity of search and insert operation may become O(n).\n",
    "\n",
    "### 3. General Tree\n",
    "#### General tree is a tree in which each node can have either zero or many child nodes\n",
    "\n",
    "### 4. B-Tree\n",
    "#### B Tree is a type of m-way tree that is commonly used for disc access. A B-Tree with order m can only have m-1 keys and m children. One of the primary reasons for using a B tree is its ability to store a large number of keys in a single node as well as large key values while keeping the tree's height relatively small.\n",
    "\n",
    "### 5. B+ Tree\n",
    "\n",
    "### 6. AVL Tree\n",
    "#### AVL trees are height balancing binary search trees named after their inventors Adelson, Velski, and Landis. The AVL tree compares the heights of the left and right subtrees and ensures that the difference is less than one. This distinction is known as the Balance Factor.\n",
    "\n",
    "### 7. Red-Black Tree\n",
    "#### Red-Black Tree is a self-balancing Binary Search Tree (BST) .\n",
    "#### A red-black tree is a Binary tree in which each node has a colour attribute, either red or black. By comparing the node colours on any simple path from the root to a leaf, red-black trees ensure that no path is more than twice as long as any other, ensuring that the tree is generally balanced.\n",
    "\n",
    "### Applications of Tree\n",
    "\n",
    "#### 1. Storing hierarchical data\n",
    "#### 2. Decision making\n",
    "#### 3. Database indexing\n",
    "#### 4. Routing algorithm\n",
    "\n",
    "\n",
    "## Tree Traversal\n",
    "\n",
    "### DFS (Depth First Search)  (Requires Stack)\n",
    "#### DFS is an algorithm for traversing or searching tree or graph data structures. The algorithm starts at the root node and explores as far as possible along each branch before backtracking.\n",
    "#### Inorder (Left, Root, Right) -> sorted order\n",
    "#### Preorder (Root, Left, Right)\n",
    "#### Postorder (Left, Right, Root)\n",
    "\n",
    "```python\n",
    "\n",
    "def inorder(root):\n",
    "    if root:\n",
    "        inorder(root.left)\n",
    "        print(root.val)\n",
    "        inorder(root.right)\n",
    "\n",
    "# DFS Without recursion\n",
    "\n",
    "def inorder(root):\n",
    "    stack = []\n",
    "    while True:\n",
    "        while root:\n",
    "            stack.append(root)\n",
    "            root = root.left\n",
    "        if not stack:\n",
    "            break\n",
    "        root = stack.pop()\n",
    "        print(root.val)\n",
    "        root = root.right\n",
    "\n",
    "```\n",
    "\n",
    "### BFS (Breadth First Search)   (Requires Queue)\n",
    "#### BFS is an algorithm for traversing or searching tree or graph data structures. It starts at the tree root and explores all of the neighbor nodes at the present depth prior to moving on to the nodes at the next depth level.\n",
    "#### BFS require more memory and also it cant be implementeed using backtracking. it is also slower than DFS\n",
    "#### Level order traversal\n",
    "\n",
    "```python\n",
    "\n",
    "def levelOrder(root):\n",
    "    if root is None:\n",
    "        return []\n",
    "    queue = [root]\n",
    "    result = []\n",
    "    while queue:\n",
    "        level = []\n",
    "        for i in range(len(queue)):\n",
    "            node = queue.pop(0)\n",
    "            level.append(node.val)\n",
    "            if node.left:\n",
    "                queue.append(node.left)\n",
    "            if node.right:\n",
    "                queue.append(node.right)\n",
    "        result.append(level)\n",
    "    return result\n",
    "\n",
    "```\n"
   ]
  },
  {
   "cell_type": "markdown",
   "metadata": {},
   "source": [
    "# Graph\n",
    "\n",
    "#### A graph is a type of non-linear data structure made up of nodes and edges. The nodes are also known as vertices, and edges are lines or arcs that connect any two nodes in the graph.\n",
    "\n",
    "### There are 2 most common types of graphs\n",
    "\n",
    "#### 1. Adjacency Matrix -> Adjacency Matrix is a two-dimensional array with the dimensions V x V, where V is the number of vertices in a graph.\n",
    "#### 2. Adjacency List -> Adjacency List is a collection of linked lists or array that lists all the neighbors of a vertex.\n",
    "\n",
    "\n",
    "### Types of graphs\n",
    "\n",
    "#### 1. Undirected Graph -> An undirected graph is a graph where all the edges are bidirectional. This means that the undirected graph does not move in any direction.\n",
    "#### 2. Directed Graph -> A directed graph is a graph where all the edges are unidirectional. This means that the directed graph moves in a particular direction.\n",
    "#### 3. Weighted Graph -> A weighted graph is a graph where each edge has a weight associated with it. This weight can be positive, negative, or zero.\n",
    "#### 4. Cyclic Graph -> A cyclic graph is a graph that has a cycle. A cycle is when a node can be traversed through and potentially end up back at itself.\n",
    "#### 5. Acyclic Graph -> An acyclic graph is a graph that does not have any cycles. A cycle is defined as a path of a positive length that starts and ends at the same vertex.\n",
    "#### 6. Connected Graph -> A connected graph is a graph that has all of vertices/nodes have at least one edge.\n",
    "#### 7. Disconnected Graph -> A disconnected graph is a graph that does not have all of its vertices/nodes have at least one edge.\n",
    "#### 8. Tree -> A tree is a connected acyclic graph. This means that a tree can have cycles, but if it does have cycles, then it is not a tree.\n",
    "#### 9. Null Graph -> A null graph is a graph with no edges.\n",
    "#### 10. Complete Graph -> A complete graph is a graph where all vertices are connected to all other vertices.\n",
    "\n",
    "### Applications of Graph\n",
    "\n",
    "#### 1. Social Networks\n",
    "#### 2. Location / Mapping\n",
    "#### 3. Routing Algorithms\n",
    "#### 4. Visual Hierarchy\n",
    "#### 5. File System Optimizations\n",
    "\n",
    "\n",
    "\n"
   ]
  },
  {
   "cell_type": "code",
   "execution_count": 7,
   "metadata": {},
   "outputs": [
    {
     "name": "stdout",
     "output_type": "stream",
     "text": [
      "0 1 1 0 \n",
      "1 0 1 0 \n",
      "1 1 0 1 \n",
      "0 0 1 0 \n"
     ]
    }
   ],
   "source": [
    "class Graph:\n",
    "    def __init__(self,vertices):\n",
    "        self.vertices = vertices\n",
    "        self.graph = [[0 for i in range(vertices)] for j in range(vertices)]\n",
    "\n",
    "    def addEdge(self,u,v):\n",
    "        self.graph[u][v] = 1\n",
    "        self.graph[v][u] = 1\n",
    "\n",
    "    def printGraph(self):\n",
    "        for i in range(self.vertices):\n",
    "            for j in range(self.vertices):\n",
    "                print(self.graph[i][j],end=\" \")\n",
    "            print()\n",
    "\n",
    "g = Graph(4)  # 4 is number of vertices\n",
    "g.addEdge(0,1)\n",
    "g.addEdge(0,2)\n",
    "g.addEdge(1,2)\n",
    "g.addEdge(2,3)\n",
    "g.printGraph()"
   ]
  },
  {
   "cell_type": "markdown",
   "metadata": {},
   "source": [
    "# Heap\n",
    "\n",
    "### A Heap is a special Tree-based data structure in which the tree is a complete binary tree.\n",
    "\n",
    "### Operations on Heap\n",
    "\n",
    "#### 1. Heapify -> Heapify is the process of creating a heap data structure from array\n",
    "#### 2. Insert -> Inserting a new key takes O(Logn) time.\n",
    "#### 3. Delete -> Deleting a key also takes O(Logn) time.\n",
    "#### 4. Peek -> Get the min/max element from the heap in O(1) time. based on min or max heap\n",
    "\n",
    "### Types of Heap\n",
    "\n",
    "#### 1. Min Heap\n",
    "##### In a Min-Heap the key present at the root node must be minimum among the keys present at all of it’s children. The same property must be recursively true for all sub-trees in that Binary Tree.\n",
    "#### 2. Max Heap\n",
    "##### In a Max-Heap the key present at the root node must be greatest among the keys present at all of it’s children. The same property must be recursively true for all sub-trees in that Binary Tree."
   ]
  }
 ],
 "metadata": {
  "kernelspec": {
   "display_name": "Python 3.8.7 64-bit",
   "language": "python",
   "name": "python3"
  },
  "language_info": {
   "codemirror_mode": {
    "name": "ipython",
    "version": 3
   },
   "file_extension": ".py",
   "mimetype": "text/x-python",
   "name": "python",
   "nbconvert_exporter": "python",
   "pygments_lexer": "ipython3",
   "version": "3.8.7"
  },
  "orig_nbformat": 4,
  "vscode": {
   "interpreter": {
    "hash": "b82bd812b6a37d04ba59de08f4dfa67a262de1c3e27303c0cb0a5b38b381c61f"
   }
  }
 },
 "nbformat": 4,
 "nbformat_minor": 2
}
