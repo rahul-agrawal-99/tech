{
 "cells": [
  {
   "cell_type": "markdown",
   "metadata": {},
   "source": [
    "###  string is the collection of the characters surrounded by single quotes, double quotes, or triple quotes\n",
    "###  strings are immutable meaning that they cannot be changed once assigned in memory"
   ]
  },
  {
   "cell_type": "code",
   "execution_count": 44,
   "metadata": {},
   "outputs": [],
   "source": [
    "s = \"HeyString\""
   ]
  },
  {
   "cell_type": "code",
   "execution_count": 13,
   "metadata": {},
   "outputs": [
    {
     "data": {
      "text/plain": [
       "'Hey'"
      ]
     },
     "execution_count": 13,
     "metadata": {},
     "output_type": "execute_result"
    }
   ],
   "source": [
    "#  slicing\n",
    "\n",
    "start = 0\n",
    "end = 3\n",
    "\n",
    "s[start:end]          # start:end-1"
   ]
  },
  {
   "cell_type": "code",
   "execution_count": 14,
   "metadata": {},
   "outputs": [
    {
     "data": {
      "text/plain": [
       "'Hey'"
      ]
     },
     "execution_count": 14,
     "metadata": {},
     "output_type": "execute_result"
    }
   ],
   "source": [
    "s[start:end:1]        # start:end:step"
   ]
  },
  {
   "cell_type": "code",
   "execution_count": 15,
   "metadata": {},
   "outputs": [
    {
     "data": {
      "text/plain": [
       "'Hy'"
      ]
     },
     "execution_count": 15,
     "metadata": {},
     "output_type": "execute_result"
    }
   ],
   "source": [
    "s[start:end:2]  "
   ]
  },
  {
   "cell_type": "code",
   "execution_count": 18,
   "metadata": {},
   "outputs": [
    {
     "data": {
      "text/plain": [
       "'Sye'"
      ]
     },
     "execution_count": 18,
     "metadata": {},
     "output_type": "execute_result"
    }
   ],
   "source": [
    "s[end:start:-1]            # reverse string with step -1"
   ]
  },
  {
   "cell_type": "code",
   "execution_count": 17,
   "metadata": {},
   "outputs": [
    {
     "data": {
      "text/plain": [
       "'gnirtSyeH'"
      ]
     },
     "execution_count": 17,
     "metadata": {},
     "output_type": "execute_result"
    }
   ],
   "source": [
    "s[::-1]            # complete reverse string"
   ]
  },
  {
   "cell_type": "markdown",
   "metadata": {},
   "source": [
    "## String Methods"
   ]
  },
  {
   "cell_type": "code",
   "execution_count": 50,
   "metadata": {},
   "outputs": [
    {
     "data": {
      "text/plain": [
       "'hEYsTRING'"
      ]
     },
     "execution_count": 50,
     "metadata": {},
     "output_type": "execute_result"
    }
   ],
   "source": [
    "s.capitalize()    # capitalize first letter\n",
    "\n",
    "s.count(\"Hey\")       # count number of \"Hey\" substring in string , return int from 0 \n",
    "\n",
    "s.find(\"y\")        # find index of \"y\" substring in string , return -1 if not found\n",
    "\n",
    "s.index(\"y\")       # find index of \"y\" substring in string , raise error if not found , rindex is same as index but it traverses from end to start\n",
    "\n",
    "s.isdecimal()     # check if string is decimal number (all elements in string)\n",
    "\n",
    "\":\".join([\"Hey\",\"this\",\"is\",\"join\"])   # join list elements with string as \"listelement separator listelements ----\"\n",
    "                                        # seperator is actual string content \n",
    "\n",
    "s.partition(\"y\")   # return tuple with 3 elements, first is before \"y\", second is \"y\", third is after \"y\"  like ('He', 'y', 'String')\n",
    "\n",
    "s.replace(\"y\", \"Y\")   # replace \"y\" with \"Y\" in string\n",
    "\n",
    "s.split(\"y\")       # split string into list of substrings , return list of strings like ['He', 'String']\n",
    "                    #  mainly used for splitting string into list of words using space as separator\n",
    "\n",
    "s.swapcase()      # swap case of string , lower to upper and upper to lower\n",
    "\n"
   ]
  },
  {
   "cell_type": "code",
   "execution_count": 34,
   "metadata": {},
   "outputs": [
    {
     "data": {
      "text/plain": [
       "False"
      ]
     },
     "execution_count": 34,
     "metadata": {},
     "output_type": "execute_result"
    }
   ],
   "source": [
    "\"54.4\".isdecimal()"
   ]
  },
  {
   "cell_type": "code",
   "execution_count": 3,
   "metadata": {},
   "outputs": [
    {
     "data": {
      "text/plain": [
       "'a\\\\nb'"
      ]
     },
     "execution_count": 3,
     "metadata": {},
     "output_type": "execute_result"
    }
   ],
   "source": [
    "#  string types \n",
    "s = \"HeyString\"\n",
    "\n",
    "f\"{s} + {s}\"            # f string , format string , use {} to insert string\n",
    "\n",
    "b\"Hello\"               # byte string ,  byte string is just that: a sequence of bytes.\n",
    "                      # It isn't human-readable. Under the hood, everything must be converted to a byte string before it can be stored in a computer.\n",
    "                      # by default, string has encoding utf-8 i.e. into text\n",
    "\n",
    "r\"a\\nb\"                # raw string , raw string is a string whose contents are not escaped.\n",
    "                      #raw string treats backslash (\\) as a literal character. \n",
    "                      # This is useful when we want to have a string that contains backslash and don’t want it to be treated as an escape character."
   ]
  }
 ],
 "metadata": {
  "kernelspec": {
   "display_name": "Python 3.8.7 64-bit",
   "language": "python",
   "name": "python3"
  },
  "language_info": {
   "codemirror_mode": {
    "name": "ipython",
    "version": 3
   },
   "file_extension": ".py",
   "mimetype": "text/x-python",
   "name": "python",
   "nbconvert_exporter": "python",
   "pygments_lexer": "ipython3",
   "version": "3.8.7"
  },
  "orig_nbformat": 4,
  "vscode": {
   "interpreter": {
    "hash": "b82bd812b6a37d04ba59de08f4dfa67a262de1c3e27303c0cb0a5b38b381c61f"
   }
  }
 },
 "nbformat": 4,
 "nbformat_minor": 2
}
