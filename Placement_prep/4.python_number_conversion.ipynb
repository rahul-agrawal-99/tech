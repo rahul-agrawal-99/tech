{
 "cells": [
  {
   "cell_type": "code",
   "execution_count": 30,
   "metadata": {},
   "outputs": [
    {
     "data": {
      "text/plain": [
       "'0xa'"
      ]
     },
     "execution_count": 30,
     "metadata": {},
     "output_type": "execute_result"
    }
   ],
   "source": [
    "#  simplae trick to convert a decimal number from any base type\n",
    "\n",
    "int(\"100\" , 2)   #   number , base_type  -> decimal(number)  , binary -> decimal(number)\n",
    "\n",
    "int(\"A\" , 16)           # hexadecimal -> decimal\n",
    "\n",
    "int(\"100\" , 8)    # octal to decimal\n",
    "\n",
    "oct(64)          # decimal to octal\n",
    "\n",
    "bin(4)           # decimal to binary\n",
    "\n",
    "hex(10)          # decimal to hexadecimal"
   ]
  },
  {
   "cell_type": "code",
   "execution_count": 19,
   "metadata": {},
   "outputs": [
    {
     "name": "stdout",
     "output_type": "stream",
     "text": [
      "11\n"
     ]
    }
   ],
   "source": [
    "#  binary to decimal conversion\n",
    "\n",
    "number = \"1011\"   # also written as 0b1011\n",
    "# number = \"100\"\n",
    "\n",
    "decimal_num = 0\n",
    "\n",
    "for index,i in enumerate(number):\n",
    "    decimal_num += int(i)*2**(len(number)-index-1)\n",
    "\n",
    "    #  decimal_num = decimal_num + int(i)*2**(len(number)-index-1)  like  1 * 2**2 + 0 * 2**1 + 0 * 2**0 = 4 + 0 + 0 = 4\n",
    "\n",
    "#  also for 1011 =>  1*2**3 + 0*2**2 + 1*2**1 + 1*2**0  = 8 + 0 + 2 + 1 = 11\n",
    "\n",
    "print(decimal_num)\n"
   ]
  },
  {
   "cell_type": "code",
   "execution_count": 33,
   "metadata": {},
   "outputs": [
    {
     "data": {
      "text/plain": [
       "64"
      ]
     },
     "execution_count": 33,
     "metadata": {},
     "output_type": "execute_result"
    }
   ],
   "source": [
    "#  octal to decimal conversion\n",
    "\n",
    "#  octal = >  0 -> 1 -> 2 -> 3 -> 4 -> 5 -> 6 -> 7 -> 10 (0d8)-> 11 (0d9)  \n",
    "\n",
    "number = \"100\"\n",
    "\n",
    "decimal_num = 0\n",
    "\n",
    "for index,i in enumerate(number):\n",
    "    decimal_num += int(i)*8**(len(number)-index-1)\n",
    "\n",
    "decimal_num"
   ]
  },
  {
   "cell_type": "code",
   "execution_count": 37,
   "metadata": {},
   "outputs": [
    {
     "data": {
      "text/plain": [
       "173"
      ]
     },
     "execution_count": 37,
     "metadata": {},
     "output_type": "execute_result"
    }
   ],
   "source": [
    "#  hexadecimal to decimal conversion\n",
    "\n",
    "#  hexadecimal = >  0 -> 1 -> 2 -> 3 -> 4 -> 5 -> 6 -> 7 -> 8 -> 9 -> 10 (0xA)-> 11 (0xB)-> 12 (0xC)-> 13 (0xD)-> 14 (0xE)-> 15 (0xF)  -> 16 (0x10)\n",
    "\n",
    "\n",
    "number = \"AD\"\n",
    "\n",
    "hex_dict = {\"A\" : 10, \"B\" : 11, \"C\" : 12, \"D\" : 13, \"E\" : 14, \"F\" : 15}\n",
    "\n",
    "decimal_num = 0\n",
    "\n",
    "for index,i in enumerate(number):\n",
    "    if i in hex_dict:\n",
    "        decimal_num += int(hex_dict[i])*16**(len(number)-index-1)\n",
    "    else:\n",
    "        decimal_num += int(i)*16**(len(number)-index-1)\n",
    "\n",
    "\n",
    "decimal_num"
   ]
  },
  {
   "cell_type": "code",
   "execution_count": 42,
   "metadata": {},
   "outputs": [
    {
     "data": {
      "text/plain": [
       "'100000'"
      ]
     },
     "execution_count": 42,
     "metadata": {},
     "output_type": "execute_result"
    }
   ],
   "source": [
    "#  decimal to binary conversion\n",
    "\n",
    "number = 32\n",
    "\n",
    "binary_num = \"\"\n",
    "\n",
    "while number > 0:\n",
    "    # print(\"number\",number)\n",
    "    # print(\"% =\",number%2)\n",
    "    binary_num = str(number%2) + binary_num\n",
    "    number = number//2\n",
    "\n",
    "binary_num"
   ]
  },
  {
   "cell_type": "code",
   "execution_count": 43,
   "metadata": {},
   "outputs": [
    {
     "data": {
      "text/plain": [
       "'40'"
      ]
     },
     "execution_count": 43,
     "metadata": {},
     "output_type": "execute_result"
    }
   ],
   "source": [
    "#  decimal to octal conversion\n",
    "\n",
    "number = 32\n",
    "\n",
    "octal_num = \"\"\n",
    "\n",
    "while number > 0:\n",
    "    # print(\"number\",number)\n",
    "    # print(\"% =\",number%8)\n",
    "    octal_num = str(number%8) + octal_num\n",
    "    number = number//8\n",
    "\n",
    "octal_num"
   ]
  }
 ],
 "metadata": {
  "kernelspec": {
   "display_name": "Python 3.8.7 64-bit",
   "language": "python",
   "name": "python3"
  },
  "language_info": {
   "codemirror_mode": {
    "name": "ipython",
    "version": 3
   },
   "file_extension": ".py",
   "mimetype": "text/x-python",
   "name": "python",
   "nbconvert_exporter": "python",
   "pygments_lexer": "ipython3",
   "version": "3.8.7"
  },
  "orig_nbformat": 4,
  "vscode": {
   "interpreter": {
    "hash": "b82bd812b6a37d04ba59de08f4dfa67a262de1c3e27303c0cb0a5b38b381c61f"
   }
  }
 },
 "nbformat": 4,
 "nbformat_minor": 2
}
