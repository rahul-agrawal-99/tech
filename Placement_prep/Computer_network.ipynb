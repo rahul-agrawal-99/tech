{
 "cells": [
  {
   "cell_type": "code",
   "execution_count": null,
   "metadata": {},
   "outputs": [],
   "source": [
    "#  network , CN , and types of network , network topology , routers vs hub vs switches\n",
    "#  OSI model\n",
    "#  TCP/IP model\n",
    "#  MAC and NIC\n",
    "#  IP4 and IP6 , CIDR , subnetting , IP classes\n",
    "#  RAID : RAID refers to redundancy array of the independent disk.\n",
    "# TCP and UDP\n",
    "#  Port\n",
    "#  Socket\n",
    "#  HTTP , HTTPS , SMTP , POP , IMAP , FTP , SSH , Telnet , DNS , ICMP ,  ARP\n",
    "#  ipconfig and the ifconfig , DHCP\n",
    "# traceroute and the ping\n",
    "#  Firewall\n",
    "#  tracing route of google search , email tracing \n",
    "#  Cryptography and the encryption , IDEA  , RSA , AES \n",
    "# Proxy server\n",
    "# VPN and its types , TOR , Torreent\n",
    "\n"
   ]
  },
  {
   "cell_type": "markdown",
   "metadata": {},
   "source": [
    "# NetWork\n",
    "\n",
    "\n",
    "\n",
    "\n",
    "\n",
    "\n",
    "## Types of Network\n",
    "\n",
    "### Personal Area Network (PAN)\n",
    "### Local Area Network (LAN)\n",
    "### Metropolitan Area Network (MAN)\n",
    "### Wide Area Network (WAN)\n",
    "\n",
    "\n",
    "## Network Modes \n",
    "\n",
    "#### 1. Simplex : Data transferring which takes place only in one direction\n",
    "#### 2. Half Duplex: Data transferring can happen in both directions but not at the same time.\n",
    "#### 3. Full Duplex: Data transferring happens in both directions that too simultaneously\n",
    "\n",
    "\n",
    "## Network Topologies\n",
    "\n",
    "### 1. Bus Topology\n",
    "### 2. Star Topology\n",
    "### 3. Ring Topology\n",
    "### 4. Mesh Topology\n",
    "### 5. Tree Topology\n",
    "\n"
   ]
  },
  {
   "cell_type": "markdown",
   "metadata": {},
   "source": [
    "# OSI Ref. Model\n",
    "\n",
    "\n",
    "### Physical Layer:\n",
    "####  Deals with transmission and reception of unstructured data through a physical medium.\n",
    "### Data Link Layer:\n",
    "####  Helps in transferring error-free data frames between nodes.\n",
    "### Network Layer:\n",
    "####  Decides the physical path that should be taken by the data as per the network conditions.\n",
    "### Transport Layer:\n",
    "####  Ensures that the messages are delivered in sequence and without any loss or duplication.\n",
    "### Session Layer:\n",
    "####  Helps in establishing a session between processes of different stations.\n",
    "### Presentation Layer:\n",
    "####  Formats the data as per the need and presents the same to the Application layer.\n",
    "### Application Layer:\n",
    "####  Serves as the mediator between Users and processes of applications."
   ]
  },
  {
   "cell_type": "markdown",
   "metadata": {},
   "source": [
    "# DNS \n",
    "\n",
    "\n",
    "### Domain Name Server (DNS), in a non-professional language and we can call it an Internet’s phone book. All the public IP addresses and their hostnames are stored in the DNS and later it translates into a corresponding IP address.\n",
    "\n",
    "### For a human being, it is easy to remember and recognize the domain name, however, the computer is a machine that does not understand the human language and they only understand the language of IP addresses for data transfer.\n",
    "\n",
    "### There is a “Central Registry” where all the domain names are stored and it gets updated on a periodic basis. All Internet service providers and different host companies usually interact with this central registry to get the updated DNS details.\n",
    "\n",
    "#### Get IP address of a website\n",
    "\n",
    "```bash\n",
    "nslookup rahul99.tech\n",
    "# OR\n",
    "ping rahul99.tech\n",
    "# OR\n",
    "host rahul99.tech\n",
    "# OR\n",
    "dig rahul99.tech\n",
    "# OR\n",
    "nmap -sS -p 53 rahul99.tech\n",
    "```\n",
    "\n",
    "    \n"
   ]
  },
  {
   "cell_type": "markdown",
   "metadata": {},
   "source": [
    "# DHCP  (Dynamic Host Configuration Protocol)\n",
    "\n",
    "#### DHCP is used to assign IP addresses automatically to the devices over the network. When a new device is added to the network, it broadcasts a message stating that it is new to the network. Then the message is transmitted to all the devices of the network.\n",
    "\n",
    "#### Only the DHCP server will react to the message and assigns a new IP address to the newly added device of the network. With the help of DHCP, IP management became very easy."
   ]
  },
  {
   "cell_type": "markdown",
   "metadata": {},
   "source": []
  },
  {
   "cell_type": "markdown",
   "metadata": {},
   "source": []
  },
  {
   "cell_type": "code",
   "execution_count": 15,
   "metadata": {},
   "outputs": [
    {
     "name": "stdout",
     "output_type": "stream",
     "text": [
      "Text  : defend the east wall of the castlez\n",
      "Cipher: hijirh xli iewx aepp sj xli gewxpid\n",
      "Decrypted Text: defend the east wall of the castlez\n"
     ]
    }
   ],
   "source": [
    "def encrypt(text,s):\n",
    "    result = \"\"\n",
    "    for i in range(len(text)):\n",
    "        char = text[i]\n",
    "        if char == ' ':\n",
    "            result += char\n",
    "        else:\n",
    "            result += chr((ord(char) + s - 97) % 26 + 97)   # 97 is the ASCII value of 'a' , % 26 is for the wrap around if the value is greater than 26 \n",
    "    return result\n",
    "\n",
    "\n",
    "text = \"defend the east wall of the castlez\"\n",
    "s = 4     # shift by 4 , like a-> e , x->b, y->c, z->d\n",
    "print(\"Text  : \" + text)\n",
    "cipher_text = encrypt(text,s)\n",
    "print(\"Cipher: \" + cipher_text)  # Cipher: hijqi xli heix asop mr xli gefxwpi\n",
    "\n",
    "def decrypt(text,s):\n",
    "    result = \"\"\n",
    "    for i in range(len(text)):\n",
    "        char = text[i]\n",
    "        if char == ' ':\n",
    "            result += char\n",
    "        else:\n",
    "            result += chr((ord(char) - s - 97) % 26 + 97)  \n",
    "    return result\n",
    "\n",
    "print(\"Decrypted Text: \" + decrypt(cipher_text,s))  # Decrypted Text: defend the east wall of the castlez"
   ]
  },
  {
   "cell_type": "markdown",
   "metadata": {},
   "source": [
    "# Encryption-Decryption and Hashing\n",
    "\n",
    "## Cipher \n",
    "####  it is an algorithm for performing encryption or decryption\n",
    "\n",
    "### Encryption is the process of converting the original data into a form that cannot be understood by anyone except the intended recipient. The process of converting the original data into a form that cannot be understood by anyone except the intended recipient is called encryption.\n",
    "\n",
    "### Decryption is the process of converting the encrypted data back into its original form. The process of converting the encrypted data back into its original form is called decryption.\n",
    "\n",
    "#### Cipher Text: The encrypted data is called cipher text.\n",
    "\n",
    "## Simple Substitution Cipher / Caesar Cipher in Python\n",
    "```python\n",
    "def encrypt(text,s):\n",
    "    result = \"\"\n",
    "    for i in range(len(text)):\n",
    "        char = text[i]\n",
    "        if char == ' ':\n",
    "            result += char\n",
    "        else:\n",
    "            result += chr((ord(char) + s - 97) % 26 + 97)   # 97 is the ASCII value of 'a' , % 26 is for the wrap around if the value is greater than 26 \n",
    "    return result\n",
    "\n",
    "\n",
    "text = \"defend the east wall of the castlez\"\n",
    "s = 4     # shift by 4 , like a-> e , x->b, y->c, z->d\n",
    "print(\"Text  : \" + text)\n",
    "cipher_text = encrypt(text,s)\n",
    "print(\"Cipher: \" + cipher_text)  # Cipher: hijqi xli heix asop mr xli gefxwpi\n",
    "\n",
    "def decrypt(text,s):\n",
    "    result = \"\"\n",
    "    for i in range(len(text)):\n",
    "        char = text[i]\n",
    "        if char == ' ':\n",
    "            result += char\n",
    "        else:\n",
    "            result += chr((ord(char) - s - 97) % 26 + 97)  \n",
    "    return result\n",
    "\n",
    "print(\"Decrypted Text: \" + decrypt(cipher_text,s))  # Decrypted Text: defend the east wall of the castlez\n",
    "\n",
    "```\n",
    "\n",
    "\n",
    "## Hashing\n",
    "\n",
    "### Hashing is a one-way process of converting a given input of any length into a fixed-length output. The output is called a hash value. The hash value is a fixed-length string of characters that uniquely identifies the input. The hash value is also called a message digest or a checksum.\n",
    "\n",
    "```python\n",
    "import hashlib\n",
    "print (\"The available algorithms are : \" , hashlib.algorithms_guaranteed )\n",
    "\n",
    "#  Convert a string to a hash\n",
    "\n",
    "text = \"Hello World\"\n",
    "hash_object = hashlib.sha256(text.encode())   #  Convert a string to a hash using sha256 algorithm\n",
    "hex_dig = hash_object.hexdigest()       #  Convert the hash to a string\n",
    "print(\"The hash of the string is : \" , hex_dig)  # ans :  0bdc9d2d256b3ee9daae347be6f4dc835a467ffeaa6914c5c34a6a72\n",
    "```"
   ]
  }
 ],
 "metadata": {
  "kernelspec": {
   "display_name": "Python 3.8.7 64-bit",
   "language": "python",
   "name": "python3"
  },
  "language_info": {
   "codemirror_mode": {
    "name": "ipython",
    "version": 3
   },
   "file_extension": ".py",
   "mimetype": "text/x-python",
   "name": "python",
   "nbconvert_exporter": "python",
   "pygments_lexer": "ipython3",
   "version": "3.8.7"
  },
  "orig_nbformat": 4,
  "vscode": {
   "interpreter": {
    "hash": "b82bd812b6a37d04ba59de08f4dfa67a262de1c3e27303c0cb0a5b38b381c61f"
   }
  }
 },
 "nbformat": 4,
 "nbformat_minor": 2
}
