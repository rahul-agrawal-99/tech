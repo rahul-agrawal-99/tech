{
 "cells": [
  {
   "cell_type": "markdown",
   "metadata": {},
   "source": [
    "### Python\n",
    "##### Python is a high-level, interpreted, general-purpose programming language  also it is capable of perform scripting \n",
    "###### An interpreted language is any programming language which is not in machine-level code before runtime\n",
    "##### Python is a case sensitive language\n",
    "##### Although Java is faster, Python is more versatile, easier to read, and has a simpler syntax\n",
    "##### Python is a dynamically typed language, I.E., Python Interpreter automatically identifies the data type of a variable based on the type of value assigned to the variable. so we cant preassign data type to variable\n",
    "##### interpreted language is any programming language that executes its statements line by line. Programs written in Python run directly from the source code, with no intermediary compilation step\n",
    "##### <b> Python Memory </b>\n",
    "##### Memory in Python is managed by Python private heap space. All Python objects and data structures are located in a private heap. This private heap is taken care of by Python Interpreter itself, and a programmer doesn’t have access to this private heap.\n",
    "##### Python memory manager takes care of the allocation of Python private heap space.\n",
    "##### Memory for Python private heap space is made available by Python’s in-built garbage collector, which recycles and frees up all the unused memory.\n",
    "\n",
    "##### PYTHONPATH  tells Python Interpreter where to locate the module files imported into a program. \n",
    "#### <b>Module vs Package in Python </b>\n",
    "##### Any Python file is a module, its name being the file's base name without the .py extension\n",
    "##### A package, however, is like a directory that holds sub-packages and modules. A package must hold the file __init__.py.\n",
    "##### When you import a module or a package, the corresponding object created by Python is always of type module\n",
    "##### <b> Namespaces </b>\n",
    "##### namespace ensures that object names in a program are unique and can be used without any conflict.\n",
    "##### 1. Local Namespace :  It is temporarily created for a function call and gets cleared once the function returns.\n",
    "##### 2. Global Namespace : It is created for the entire program and remains intact until the program ends.\n",
    "##### 3. Built-in Namespace : It is created for built-in functions and is available throughout the program.\n",
    "##### <b> scope resolution </b>\n",
    "##### scope is a block of code where an object in Python remains relevant\n",
    "##### <b> Type Conversion </b>\n",
    "##### 1. Implicit Type Conversion: interpreter helps in automatically converting the data type into another data type without any User involvement.\n",
    "##### 2. Explicit Type Conversion: data type inn changed into a required type by the user.\n",
    "##### <b> Literal </b>\n",
    "##### Literals refer to the data which will be provided to a given in a variable or constant. e.g. string literal , int literal\n",
    "##### <b>  </b>\n",
    "##### <b>  </b>\n",
    "##### \n",
    "##### \n",
    "##### "
   ]
  },
  {
   "cell_type": "code",
   "execution_count": 2,
   "metadata": {},
   "outputs": [
    {
     "data": {
      "text/plain": [
       "' 10,010,000'"
      ]
     },
     "execution_count": 2,
     "metadata": {},
     "output_type": "execute_result"
    }
   ],
   "source": [
    "#  Operators\n",
    "\n",
    "5 + 4     # addition\n",
    "\n",
    "5 / 4   # division  ans : 1.25\n",
    "\n",
    "5 // 3  # Floor division,  with int conversion , convert to 1 value before int i.e.  1.99 as 1 \n",
    "\n",
    "5 % 4  # modulus i.e. remaining value after division ans : 1\n",
    "\n",
    "5**3 # power ans : 125\n",
    "\n",
    "True and False         # and operator , ans : False      , same as True & False   \n",
    "\n",
    "True | False           # or operator , ans : True       , same as True or False\n",
    "\n",
    "1 ^ 2                  # xor operator , ans :3  cause 1 : b01 and 2 : b10 , xor 1 + 2 = 01 +10 = 11 = 3\n",
    "\n",
    "~1                    # bitwise not operator , ans : -2  , cause 1 : b01 , bitwise not b01 = b10 = 2 with inverse sign\n",
    "\n",
    "#  to find even or odd number\n",
    "\n",
    "4 % 2 == 0            # ans : True\n",
    "\n",
    "4 & 1 == 0            # ans : True   for even number and with 1 it will be 0 , for odd number it will be 1\n",
    "\n",
    "10_000_000_000        # 10 billion , same as 10000000000   but in more readable format , both the values are same\n",
    "\n",
    "10_000_000_000   ==  10000000000    # ans : True \n",
    "\n",
    "ans = f\"{10000 + 10000000 : ,}\"   #  ans is 10,010,000 , it will format the value with comma in million , billion etc format , syntax : f\"{value : ,}\" , instead of comma we can use any other symbol\n"
   ]
  },
  {
   "cell_type": "code",
   "execution_count": null,
   "metadata": {},
   "outputs": [],
   "source": [
    "#  Data types in python\n",
    "\n",
    "# Text Type:\tstr\n",
    "\n",
    "# Numeric Types:\tint, float, complex\n",
    "\n",
    "# Sequence Types:\tlist, tuple, range\n",
    "\n",
    "# Mapping Type:\tdict\n",
    "\n",
    "# Set Types:\tset, frozenset  ( Frozen set is just an immutable version of a Python set object )\n",
    "\n",
    "# Boolean Type:\tbool\n",
    "\n",
    "# Binary Types:\tbytes  (b\"\")  , bytearray  (bytearray(5)) , memoryview\n",
    "#  The memoryview() function allows direct read and write access to an object's byte-oriented data without needing to copy it first.\n",
    "\n",
    "# None Type:\tNoneType\n",
    "\n",
    "# Data Structures are a way of organizing data so that it can be accessed more efficiently depending upon the situation.\n",
    "#  Python has data structures like list, tuple, dictionary, set, etc. which are used to store data in a structured way."
   ]
  },
  {
   "cell_type": "code",
   "execution_count": 5,
   "metadata": {},
   "outputs": [
    {
     "name": "stdout",
     "output_type": "stream",
     "text": [
      "hello\n"
     ]
    },
    {
     "data": {
      "text/plain": [
       "'max'"
      ]
     },
     "execution_count": 5,
     "metadata": {},
     "output_type": "execute_result"
    }
   ],
   "source": [
    "#  python built-in functions\n",
    "\n",
    "abs(-5.445)      # return the absolute value of a number i.e. modulus of a number \n",
    "\n",
    "all([True, False, True])  # return True if all elements of the iterable are true\n",
    "\n",
    "any([True, False, True])  # return True if any element of the iterable is true\n",
    "\n",
    "bin(3)          # return the binary representation of an integer\n",
    "\n",
    "oct(8)          # return the octal representation of an integer\n",
    "\n",
    "hex(3)          # return the hexadecimal representation of an integer\n",
    "\n",
    "bytes(3)        # return the bytes representation of an integer\n",
    "\n",
    "callable(max)     # return True if the object is callable\n",
    "\n",
    "chr(97)         # return a character corresponding to the integer in ascii\n",
    "\n",
    "ord('a')        # return the integer in ascii corresponding to the character , reverse of chr\n",
    "\n",
    "dir(max)        # return a list of attributes of an object , can be used for class also\n",
    "\n",
    "eval('3 + 4')   # evaluate a string as a Python expression\n",
    "\n",
    "exec('print(\"hello\")')  # execute a string as a Python statement\n",
    "\n",
    "lambda x: x * 2    # create a lambda function that can directly applied to list or any data type , [lambda x: x * 2 for x in range(10)]\n",
    "\n",
    "list(filter(lambda x: x > 5, [1, 2, 3, 4, 5, 6, 7, 8, 9]))  # return a list of elements for which the function returns true\n",
    "                                #  filter(function, iterable)\n",
    "\n",
    "format(3, 'b')   # return a formatted string , b for binary , d for decimal , o for octal , x for hexadecimal   , format(number, format_spec)\n",
    "\n",
    "getattr(max, '__name__')  # return the value of an attribute of an object , getattr(object, name[, default])\n",
    "\n",
    "hash(max)        # return the hash value of an object , hash(object)\n",
    "\n",
    "id(max)          # return the id of an object , id(object)\n",
    "\n",
    "issubclass(int, object)  # return True if the class is a subclass of the given class , issubclass(subclass, class)\n",
    "\n",
    "list(map(lambda x: x * 2, [1, 2, 3, 4, 5, 6, 7, 8, 9]))  # return a list of elements after applying the function to each element of the iterable\n",
    "\n",
    "object.__dict__    # return a dictionary containing the attributes of the object , object.__dict__\n",
    "\n",
    "pow(2, 3)         # return the value of 2 raised to the power of 3\n",
    "\n",
    "range(1, 10)      # return a list of numbers from start to end , range(start, end, step) default step is 1\n",
    "\n",
    "reversed([1, 2, 3, 4, 5, 6, 7, 8, 9])  # return iterator containing list of elements in reverse order\n",
    "\n",
    "round(3.14159, 2)  # return the value of x rounded to n digits after the decimal point , round(x, n)\n",
    "\n",
    "type(max)         # return the type of an object , type(object) ans : builtin_function_or_method\n",
    "\n",
    "zip([1, 2, 3], [4, 5, 6])  # return iterator containing list of tuples that contain the elements of each iterable at same index\n",
    "\n",
    "\n",
    "class A:\n",
    "    pass\n",
    "myobj = A()\n",
    "\n",
    "setattr(myobj, 'mykey', 'max')  # set the value of an attribute of an object , setattr(object, key/variable-name, value)\n",
    "\n",
    "getattr(myobj, 'mykey')  # return the value of an attribute of an object , getattr(object, key/variable-name[, default])\n"
   ]
  },
  {
   "cell_type": "code",
   "execution_count": 70,
   "metadata": {},
   "outputs": [],
   "source": [
    "#  important keywords\n",
    "\n",
    "\n",
    "m = int()\n",
    "del m      # delete an object of any class to free up memory\n",
    "s= \"string\"         # it is object of class str\n",
    "del s\n",
    "# print(s)        # it will throw an error as s is deleted\n",
    "\n",
    "\n",
    "# assert 1 == 2, \"1 is not equal to 2\"     # raise an AssertionError if the condition is false with custom message\n",
    "\n",
    "global x    # declare a global variable , if variable is declared global then it can be used outside the function also\n",
    "\n",
    "\n"
   ]
  },
  {
   "cell_type": "code",
   "execution_count": null,
   "metadata": {},
   "outputs": [],
   "source": [
    "#  input \n",
    "\n",
    "m = input(\"Enter your name : \")\n",
    "print(m)\n",
    "\n",
    "#  input with type conversion\n",
    "a = int(input(\"Enter your age : \"))\n",
    "print(a)"
   ]
  },
  {
   "cell_type": "code",
   "execution_count": 71,
   "metadata": {},
   "outputs": [
    {
     "name": "stdout",
     "output_type": "stream",
     "text": [
      "8\n",
      "25\n",
      "1\n",
      "3\n"
     ]
    }
   ],
   "source": [
    "#  python Functions \n",
    "\n",
    "# default scope of function is local , if we want to use the variable outside the function then we have to declare it global\n",
    "\n",
    "def fun():\n",
    "    global x      # global variable can be used outside the function , dont assign value to global variable in same line a declaration\n",
    "    x = 1   \n",
    "\n",
    "def add(a, b) -> int:   # -> is a return type , helpful to know the return type of the function\n",
    "    return a + b\n",
    "\n",
    "#  if 2 functions have same name then it will consider the last one\n",
    "\n",
    "def add(a, b ,c):\n",
    "    def add2():    # function inside a function , this nested function is not allowed to be called outside the function\n",
    "        nonlocal a  # nonlocal variable can be used inside nested function to access the outer function's variable\n",
    "        nonlocal b\n",
    "        return a + b\n",
    "    return add2() + c\n",
    "\n",
    "print(add(1, 2,5))  # return 8\n",
    "\n",
    "\n",
    "def create_adder(x):\n",
    "    def adder(y): \n",
    "        return x+y\n",
    " \n",
    "    return adder\n",
    " \n",
    "add_15 = create_adder(15)\n",
    " \n",
    "print(add_15(10))  # prints 25\n",
    "print(add_15(20))  # prints 35\n",
    "\n",
    "\n",
    "#  yield is used to create a generator function , it can be used to create a iterable object\n",
    "def value():\n",
    "    yield 1     # yield is used to return a generator object , generator object can be used to iterate over the elements of the generator \n",
    "    yield 3      \n",
    "    yield 5    # yield can be used multiple times in a function\n",
    "\n",
    "\n",
    "v = value()         # v contains generator object as <generator object value at 0x00000143544EA270>\n",
    "\n",
    "print(next(v))      # print the next element of the generator object ,as it is used for first time it will return 1\n",
    "print(next(v))      #  it will return 3\n",
    "\n",
    "\n",
    "# for i in v:      # for loop can be used to iterate over the generator object instead of next() writing every time\n",
    "#     print(i)        \n",
    "\n"
   ]
  },
  {
   "cell_type": "code",
   "execution_count": 72,
   "metadata": {},
   "outputs": [
    {
     "name": "stdout",
     "output_type": "stream",
     "text": [
      "division by zero\n",
      "finally\n"
     ]
    }
   ],
   "source": [
    "#  Try / Except / Finally\n",
    "\n",
    "try:\n",
    "    print(1/0)            # first except block matching error will be executed only\n",
    "except ZeroDivisionError:          \n",
    "    print(\"division by zero\")\n",
    "except Exception as e:\n",
    "    print(e)\n",
    "finally:                         # irrespective of the error , this block will be executed\n",
    "    print(\"finally\")"
   ]
  },
  {
   "cell_type": "markdown",
   "metadata": {},
   "source": [
    "##### <b> break vs continue Vs pass </b>\n",
    "#####  break : terminate the loop , pass the control to the next statement.\n",
    "#####  continue : force the execution of the next iteration when a specific condition meets, instead of terminating it.\n",
    "#####  pass : skip the execution"
   ]
  },
  {
   "cell_type": "code",
   "execution_count": 75,
   "metadata": {},
   "outputs": [
    {
     "name": "stdout",
     "output_type": "stream",
     "text": [
      "Division by zero is not possible using wrapper\n"
     ]
    }
   ],
   "source": [
    "#  decorators in python\n",
    "#   allows programmers to modify the behaviour of a function or class.\n",
    "#   Decorators allow us to wrap another function in order to extend the behaviour of the wrapped function, without permanently modifying it\n",
    "\n",
    "# e.g.\n",
    "\n",
    "\n",
    "def div(a, b):\n",
    "    return a/b\n",
    "#  if we need to precheck the input before calling the function without modifying it we can use decorators\n",
    "\n",
    "def decorator_div(fun):\n",
    "    def wrapper(x,y):\n",
    "        if y == 0:\n",
    "            print(\"Division by zero is not possible using wrapper\")\n",
    "        else:\n",
    "            return fun(x,y)\n",
    "    return wrapper\n",
    "\n",
    "\n",
    "div = decorator_div(div)\n",
    "div(1,0) # it will print \"Division by zero is not possible using wrapper\"\n",
    "div(4,2) # it will return 2"
   ]
  },
  {
   "cell_type": "code",
   "execution_count": 6,
   "metadata": {},
   "outputs": [],
   "source": [
    "#  iterator vs generator\n",
    "\n",
    "# Iterators are objects that have an __iter__ and a __next__ (next in Python 2) method\n",
    "\n",
    "# Every generator is an iterator, but not vice versa.  Specifically, generator is a subtype of iterator.\n",
    "#  A generator is built by calling a function that has one or more yield expressions (yield statements, in Python 2.5 and earlier), \n",
    "#       and is an object that meets the previous paragraph's definition of an iterator\n",
    "# Generators provide an easy, built-in way to create instances of Iterators\n",
    "\n",
    "def foo():\n",
    "    print(\"begin\")\n",
    "    for i in range(3):\n",
    "        print(\"before yield\", i)\n",
    "        yield i\n",
    "        print(\"after yield\", i)\n",
    "    print(\"end\")\n",
    "\n",
    "f = foo()"
   ]
  },
  {
   "cell_type": "code",
   "execution_count": 7,
   "metadata": {},
   "outputs": [
    {
     "name": "stdout",
     "output_type": "stream",
     "text": [
      "begin\n",
      "before yield 0\n"
     ]
    },
    {
     "data": {
      "text/plain": [
       "0"
      ]
     },
     "execution_count": 7,
     "metadata": {},
     "output_type": "execute_result"
    }
   ],
   "source": [
    "next(f)"
   ]
  },
  {
   "cell_type": "code",
   "execution_count": 8,
   "metadata": {},
   "outputs": [
    {
     "name": "stdout",
     "output_type": "stream",
     "text": [
      "after yield 0\n",
      "before yield 1\n"
     ]
    },
    {
     "data": {
      "text/plain": [
       "1"
      ]
     },
     "execution_count": 8,
     "metadata": {},
     "output_type": "execute_result"
    }
   ],
   "source": [
    "next(f)"
   ]
  },
  {
   "cell_type": "code",
   "execution_count": 9,
   "metadata": {},
   "outputs": [
    {
     "name": "stdout",
     "output_type": "stream",
     "text": [
      "after yield 1\n",
      "before yield 2\n"
     ]
    },
    {
     "data": {
      "text/plain": [
       "2"
      ]
     },
     "execution_count": 9,
     "metadata": {},
     "output_type": "execute_result"
    }
   ],
   "source": [
    "next(f)"
   ]
  },
  {
   "cell_type": "code",
   "execution_count": 10,
   "metadata": {},
   "outputs": [
    {
     "name": "stdout",
     "output_type": "stream",
     "text": [
      "after yield 2\n",
      "end\n"
     ]
    },
    {
     "ename": "StopIteration",
     "evalue": "",
     "output_type": "error",
     "traceback": [
      "\u001b[1;31m---------------------------------------------------------------------------\u001b[0m",
      "\u001b[1;31mStopIteration\u001b[0m                             Traceback (most recent call last)",
      "\u001b[1;32m<ipython-input-10-aff1dd02a623>\u001b[0m in \u001b[0;36m<module>\u001b[1;34m\u001b[0m\n\u001b[1;32m----> 1\u001b[1;33m \u001b[0mnext\u001b[0m\u001b[1;33m(\u001b[0m\u001b[0mf\u001b[0m\u001b[1;33m)\u001b[0m\u001b[1;33m\u001b[0m\u001b[1;33m\u001b[0m\u001b[0m\n\u001b[0m",
      "\u001b[1;31mStopIteration\u001b[0m: "
     ]
    }
   ],
   "source": [
    "next(f)"
   ]
  },
  {
   "cell_type": "code",
   "execution_count": 12,
   "metadata": {},
   "outputs": [
    {
     "data": {
      "text/plain": [
       "-7933349686136237878"
      ]
     },
     "execution_count": 12,
     "metadata": {},
     "output_type": "execute_result"
    }
   ],
   "source": [
    "hash(\"1\")\n"
   ]
  },
  {
   "cell_type": "code",
   "execution_count": 17,
   "metadata": {},
   "outputs": [
    {
     "data": {
      "text/plain": [
       "-3450216281691044314"
      ]
     },
     "execution_count": 17,
     "metadata": {},
     "output_type": "execute_result"
    }
   ],
   "source": [
    "hash(\"rauhuaf\")"
   ]
  },
  {
   "cell_type": "code",
   "execution_count": 19,
   "metadata": {},
   "outputs": [
    {
     "data": {
      "text/plain": [
       "[(1, 4), (2, 5), (3, 6)]"
      ]
     },
     "execution_count": 19,
     "metadata": {},
     "output_type": "execute_result"
    }
   ],
   "source": [
    "list(zip([1, 2, 3], [4, 5, 6]) )"
   ]
  }
 ],
 "metadata": {
  "kernelspec": {
   "display_name": "Python 3.8.7 64-bit",
   "language": "python",
   "name": "python3"
  },
  "language_info": {
   "codemirror_mode": {
    "name": "ipython",
    "version": 3
   },
   "file_extension": ".py",
   "mimetype": "text/x-python",
   "name": "python",
   "nbconvert_exporter": "python",
   "pygments_lexer": "ipython3",
   "version": "3.8.7"
  },
  "orig_nbformat": 4,
  "vscode": {
   "interpreter": {
    "hash": "b82bd812b6a37d04ba59de08f4dfa67a262de1c3e27303c0cb0a5b38b381c61f"
   }
  }
 },
 "nbformat": 4,
 "nbformat_minor": 2
}
