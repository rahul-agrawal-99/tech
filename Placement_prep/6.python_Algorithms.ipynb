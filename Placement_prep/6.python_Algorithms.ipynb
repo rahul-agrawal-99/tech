{
 "cells": [
  {
   "cell_type": "markdown",
   "metadata": {},
   "source": [
    "# Notations in Complexity Analysis of Algorithms\n",
    "\n",
    "### Asymptotic Analysis\n",
    "#### Asymptotic analysis of an algorithm defines the run-time performance as per its mathematical boundations.\n",
    "\n",
    "## 1. Big O Notation (Upper Bound) O\n",
    "\n",
    "#### worst-case of an algorithm’s time complexity\n",
    "####  In the worst analysis, we guarantee an upper bound on the running time of an algorithm which is good information. \n",
    "### 0 ≤ f(n) ≤ C*g(n) for all n ≥ 0 \n",
    "#### where f(n) describes the running time of an algorithm , C is a constant, and g(n) is the running time of the algorithm with the worst-case input.\n",
    "\n",
    "## 2. Big Omega Notation (Lower Bound) $\\Omega$\n",
    "\n",
    "#### best case of an algorithm’s time complexity\n",
    "####   Guaranteeing a lower bound on an algorithm doesn’t provide any information as in the worst case, an algorithm may take years to run.\n",
    "### 0 ≤ C*g(n) ≤ f(n) for all n ≥ 0\n",
    "\n",
    "## 3. Theta Notation (Upper and Lower Bound) $\\Theta$\n",
    "#### average case of an algorithm’s time complexity\n",
    "#### not easy to do in most practical cases and it is rarely done\n",
    "### 0 ≤ C_1*g(n) ≤ f(n) ≤ C_2*g(n) for all n ≥ 0\n",
    "#### if f(n) is theta of g(n), then the value f(n) is always between c1 * g(n) and c2 * g(n) for large values of n (n ≥ n0). The definition of theta also requires that f(n) must be non-negative for values of n greater than n0. \n",
    "#### there are constants c1, c2 > 0 and n0 > 0 such that 0 ≤ c1 * g(n) ≤ f(n) ≤ c2 * g(n) for all n ≥ n0 , n0 is natural number"
   ]
  },
  {
   "cell_type": "markdown",
   "metadata": {},
   "source": [
    "# Efficiancy Of Algorithms\n",
    "\n",
    "#### An algorithm is said to be efficient if it takes less time and space to execute. There are 4 parameters to measure the efficiency of an algorithm:\n",
    "\n",
    "## 1. Growth Rate\n",
    "#### The growth rate of an algorithm is the rate at which the time or space required by the algorithm increases with the increase in the size of the input.\n",
    "##### logn > n > nlogn > n^2 > n^3 > 2^n > n!\n",
    "\n",
    "## 2. Estimated Time Complexity\n",
    "#### The estimated time complexity of an algorithm is the time required by the algorithm to execute for a given input size. The estimated time complexity is calculated by counting the number of operations performed by the algorithm for a given input size.\n",
    "\n",
    "## 3. Best case , Worst case and Average case\n",
    "#### The best case time complexity of an algorithm is the time required by the algorithm to execute for the best possible input. The worst case time complexity of an algorithm is the time required by the algorithm to execute for the worst possible input. The average case time complexity of an algorithm is the time required by the algorithm to execute for the average input.\n",
    "\n",
    "## 4. Asymptotic Efficiency\n",
    "#### The asymptotic efficiency of an algorithm is the efficiency of an algorithm in the asymptotic sense. The asymptotic efficiency of an algorithm is the efficiency of an algorithm when the input size tends to infinity. The asymptotic efficiency of an algorithm is denoted by O(n), Ω(n) and Θ(n)."
   ]
  },
  {
   "cell_type": "markdown",
   "metadata": {},
   "source": [
    "# Different Types of Algorithms Strategies\n",
    "\n",
    "## 1. Divide and Conquer\n",
    "## 2. Greedy\n",
    "## 3. Dynamic Programming\n",
    "## 4. Backtracking\n",
    "## 5. Branch and Bound\n",
    "## 6. Randomized Algorithms\n",
    "\n"
   ]
  },
  {
   "cell_type": "markdown",
   "metadata": {},
   "source": [
    "knapsack\n",
    "MST\n",
    "Dijkstra\n",
    "Floyd\n",
    "Bellman-Ford\n",
    "Prim\n",
    "Kruskal\n",
    "Hamiltonian cycle\n",
    "TSP\n",
    "BFS\n",
    "DFS\n"
   ]
  },
  {
   "cell_type": "markdown",
   "metadata": {},
   "source": [
    "# Sorting Techniques\n",
    "### Sorting Algorithm is used to rearrange a given array or list elements according to a comparison operator on the elements\n",
    "\n",
    "## Types of sorting algorithms\n",
    "\n",
    "#### 1. In-place sorting algorithm \n",
    "##### In-place sorting algorithm is a sorting algorithm that does not require any extra space to be used. only small amount of extra storage space is allowed for auxiliary variables. \n",
    "#### 2. Stable sorting algorithm\n",
    "##### Stable sorting algorithm is a sorting algorithm that maintains the relative order of equal elements in the sorted array. \n",
    "##### e.g. if the input array is [2,1,2] then the output array is [1,2,2]  where order of 2 is maintained."
   ]
  },
  {
   "cell_type": "code",
   "execution_count": null,
   "metadata": {},
   "outputs": [],
   "source": [
    "#  Selection  Sort\n",
    "#  Insertion  Sort\n",
    "#  Bubble     Sort\n",
    "#  Merge      Sort\n",
    "#  Quick      Sort\n",
    "#  Heap       Sort\n",
    "#  Bucket     Sort\n",
    "#  TimSort    Sort\n"
   ]
  },
  {
   "cell_type": "markdown",
   "metadata": {},
   "source": [
    "# Selection Sort"
   ]
  },
  {
   "cell_type": "code",
   "execution_count": 1,
   "metadata": {},
   "outputs": [
    {
     "name": "stdout",
     "output_type": "stream",
     "text": [
      "[3, 3, 4, 6, 54, 56, 68, 68, 68, 656, 7768]\n"
     ]
    }
   ],
   "source": [
    "\n",
    "# The time complexity of Selection Sort is O(N2) as there are two nested loops:\n",
    "#               One loop to select an element of Array one by one = O(N)\n",
    "#               Another loop to compare that element with every other Array element = O(N)\n",
    "#           Therefore overall complexity = O(N)*O(N) = O(N*N) = O(N^2)  -> for all cases \n",
    "\n",
    "#   O(1) as the only extra memory used is for temporary variable while swapping\n",
    "\n",
    "#  stable -> No\n",
    "#  inplace -> Yes\n",
    "\n",
    "l = [3,3,68,6,4,54,7768,68,68,656,56]\n",
    "\n",
    "def selection_sort(arr):\n",
    "    for i in range(len(arr)):\n",
    "        min_index = i\n",
    "        for j in range(i + 1, len(arr)):\n",
    "            if arr[j] < arr[min_index]:\n",
    "                min_index = j\n",
    "        arr[i], arr[min_index] = arr[min_index], arr[i]\n",
    "    return arr\n",
    "\n",
    "print(selection_sort(l))\n",
    "\n",
    "\n",
    "#  Psuedo Code\n",
    "\n",
    "#  iterate through the array , find the minimum element and swap it with the first element\n",
    "\n",
    "# Pros \n",
    "\n",
    "# 1.  Simplest sorting algorithm that works well for small data sets\n",
    "#2. no additional temporary storage required\n",
    "\n",
    "# Cons \n",
    "\n",
    "# 1.  Not efficient for large data sets\n",
    "\n",
    "\n",
    "#   avoid any time , use insertion or bubble sort instead"
   ]
  },
  {
   "cell_type": "markdown",
   "metadata": {},
   "source": [
    "# insertion sort "
   ]
  },
  {
   "cell_type": "code",
   "execution_count": null,
   "metadata": {},
   "outputs": [],
   "source": [
    " \n",
    "#   time complexity ->    best case O(n) worst case O(n^2) average case O(n^2) \n",
    "#   space complexity ->   space O(1)  \n",
    "\n",
    "#  stable -> Yes\n",
    "#  inplace -> Yes\n",
    "\n",
    "l = [3,3,68,6,4,54,7768,68,68,656,56]\n",
    "\n",
    "\n",
    "def sort(l):  \n",
    "    for i in range(1, len(l)):\n",
    "        key = l[i]\n",
    "        j = i - 1\n",
    "        while j >= 0 and key < l[j]:\n",
    "            l[j + 1] = l[j]\n",
    "            j -= 1\n",
    "        l[j + 1] = key\n",
    "\n",
    "    return l\n",
    "\n",
    "print(sort(l))\n",
    "\n",
    "# Psuedo Code\n",
    "\n",
    "# 1.  Iterate through the array\n",
    "# 2.  Compare the current element with the previous element\n",
    "# 3.  If the current element is smaller than the previous element, swap them\n",
    "# 4.  Repeat step 2 and 3 until the array is sorted\n",
    "\n",
    "# Pros\n",
    "\n",
    "# 1.  Efficient for small data sets\n",
    "# 2.  Efficient for data sets that are already almost sorted\n",
    "# 3.  Simple implementation , better performance than Selection Sort and Bubble Sort in most cases , also for  small size data sets, it is more efficient than Quicksort and Heapsort\n",
    "\n",
    "# Cons\n",
    "\n",
    "# 1.  Not efficient for large data sets\n",
    "    "
   ]
  },
  {
   "cell_type": "markdown",
   "metadata": {},
   "source": [
    "#  Bubble     Sort"
   ]
  },
  {
   "cell_type": "code",
   "execution_count": 2,
   "metadata": {},
   "outputs": [
    {
     "name": "stdout",
     "output_type": "stream",
     "text": [
      "[3, 3, 4, 6, 54, 56, 68, 68, 68, 656, 7768]\n"
     ]
    }
   ],
   "source": [
    "\n",
    "\n",
    "# Time Complexity:      O(n^2)  -> worst case , array is sorted in reverse order\n",
    "#                       O(n)    -> best case , array is already sorted in ascending order\n",
    "# Space Complexity: O(1) \n",
    "\n",
    "\n",
    "#  Stable -> Yes\n",
    "#  inplace -> Yes\n",
    "\n",
    "l = [3,3,68,6,4,54,7768,68,68,656,56]\n",
    "\n",
    "def bubble_sort(l):\n",
    "    for i in range(len(l)):\n",
    "        for j in range(len(l) - 1):\n",
    "            if l[j] > l[j + 1]:\n",
    "                l[j], l[j + 1] = l[j + 1], l[j]\n",
    "    return l\n",
    "\n",
    "print(bubble_sort(l))\n",
    "\n",
    "# Psuedo Code\n",
    "\n",
    "# 1.  Iterate through the array\n",
    "# 2.  Compare the current element with the next element\n",
    "# 3.  If the current element is greater than the next element, swap them\n",
    "# 4.  Repeat step 2 and 3 until the array is sorted\n",
    "\n",
    "#   it tries to bubble up the largest element to the end of the array\n",
    "\n",
    "# Pros\n",
    "\n",
    "\n",
    "# 1.  Simple implementation\n",
    "# 2.  Efficient for small data sets\n",
    "# 3.  Efficient for data sets that are already almost sorted\n",
    "\n",
    "# Cons\n",
    "\n",
    "# 1.  Not efficient for large data sets\n",
    "# 2.  not for real-life applications."
   ]
  },
  {
   "cell_type": "markdown",
   "metadata": {},
   "source": [
    "# quick sort "
   ]
  },
  {
   "cell_type": "code",
   "execution_count": null,
   "metadata": {},
   "outputs": [],
   "source": [
    "# quick sort  ->   Divide and Conquer algorithm , picks an element as a pivot and partitions the given array around the picked pivot\n",
    "# Time Complexity:         best case O(n log n) \n",
    "                        # worst case O(n^2)  , when the given input array is sorted reversely and we choose the rightmost element as the pivot element\n",
    "                        # average case O(n log n)\n",
    "# Space Complexity:  O(log n)\n",
    "\n",
    "\n",
    "# stable -> No\n",
    "# inplace -> Yes\n",
    "\n",
    "l = [3,3,68,6,4,54,7768,68,68,656,56]\n",
    "\n",
    "def quick_sort(l):  \n",
    "    if len(l) <= 1:\n",
    "        return l\n",
    "    else:\n",
    "        pivot = l[0]\n",
    "        less = [i for i in l[1:] if i <= pivot]\n",
    "        greater = [i for i in l[1:] if i > pivot]\n",
    "        return quick_sort(less) + [pivot] + quick_sort(greater)\n",
    "\n",
    "print(quick_sort(l))\n",
    "\n",
    "# Psuedo Code\n",
    "\n",
    "# 1.  Pick an element, called a pivot, from the array\n",
    "# 2.  Partitioning: reorder the array so that all elements with values less than the pivot come before the pivot, \n",
    "#           while all elements with values greater than the pivot come after it (equal values can go either way). \n",
    "#           After this partitioning, the pivot is in its final position. This is called the partition operation.\n",
    "# 3.  Recursively apply the above steps to the sub-array of elements with smaller values and separately to the sub-array of elements with greater values.\n",
    "\n",
    "# Pros\n",
    "\n",
    "# 1.  Efficient for large data sets\n",
    "# 2.   it sorts in place, no additional storage is required as well\n",
    "\n",
    "#  Cons \n",
    "\n",
    "# 1.  worst-case performance is similar to average performances of the bubble, insertion or selections sorts.\n",
    "# 2.  list is already sorted than bubble sort is much more efficient than quick sort\n"
   ]
  },
  {
   "cell_type": "markdown",
   "metadata": {},
   "source": [
    "#  Merge Sort "
   ]
  },
  {
   "cell_type": "code",
   "execution_count": 3,
   "metadata": {},
   "outputs": [
    {
     "name": "stdout",
     "output_type": "stream",
     "text": [
      "[3, 3, 4, 6, 54, 56, 68, 68, 68, 656, 7768]\n"
     ]
    }
   ],
   "source": [
    "#  Merge Sort -> divide and conquer strategy , the array is initially divided into two equal halves and then they are combined in a sorted manner.\n",
    "#                if the array becomes empty or has only one element left, the dividing will stop\n",
    "\n",
    "# Time Complexity:         best case O(n log n)\n",
    "                        # worst case O(n log n) \n",
    "                        # average case O(n log n)\n",
    "# Space Complexity:  O(n)\n",
    "\n",
    "#  Stable -> Yes\n",
    "#  inplace -> NO\n",
    "\n",
    "l = [3,3,68,6,4,54,7768,68,68,656,56]\n",
    "\n",
    "def merge_sort(l):\n",
    "    if len(l) > 1:\n",
    "        mid = len(l) // 2\n",
    "        left = l[:mid]\n",
    "        right = l[mid:]\n",
    "\n",
    "        merge_sort(left)\n",
    "        merge_sort(right)\n",
    "\n",
    "        i = j = k = 0\n",
    "\n",
    "        while i < len(left) and j < len(right):\n",
    "            if left[i] < right[j]:\n",
    "                l[k] = left[i]\n",
    "                i += 1\n",
    "            else:\n",
    "                l[k] = right[j]\n",
    "                j += 1\n",
    "            k += 1\n",
    "\n",
    "        while i < len(left):\n",
    "            l[k] = left[i]\n",
    "            i += 1\n",
    "            k += 1\n",
    "\n",
    "        while j < len(right):\n",
    "            l[k] = right[j]\n",
    "            j += 1\n",
    "            k += 1\n",
    "\n",
    "    return l\n",
    "\n",
    "print(merge_sort(l))\n",
    "\n",
    "\n",
    "# Psuedo Code\n",
    "\n",
    "# 1.  Divide the unsorted list into n sublists, each containing 1 element (a list of 1 element is considered sorted).\n",
    "# 2.  Repeatedly merge sublists to produce new sorted sublists until there is only 1 sublist remaining. This will be the sorted list.\n",
    "\n",
    "# Pros\n",
    "\n",
    "# 1.  Efficient for large data sets\n",
    "\n",
    "# Cons\n",
    "\n",
    "# 1.  Not efficient for small data sets ,as  slower than other sorting algorithms\n",
    "# 2.  requires huge space for merging the sublists\n"
   ]
  },
  {
   "cell_type": "markdown",
   "metadata": {},
   "source": [
    "#  Heap Sort "
   ]
  },
  {
   "cell_type": "code",
   "execution_count": 4,
   "metadata": {},
   "outputs": [
    {
     "name": "stdout",
     "output_type": "stream",
     "text": [
      "[3, 3, 4, 6, 54, 56, 68, 68, 68, 656, 7768]\n"
     ]
    }
   ],
   "source": [
    "#  Heap Sort ->  comparison-based sorting technique based on Binary Heap ,  similar to the selection sort \n",
    "#  First convert the array into heap data structure using heapify, \n",
    "#       than one by one delete the root node of the Max-heap and replace it with the last node in the heap and then heapify the root of the heap. \n",
    "#  Repeat this process until size of heap is greater than 1.\n",
    "\n",
    "# Time Complexity:         best case O(n log n)\n",
    "                        # worst case O(n log n)                 \n",
    "                        # average case O(n log n)\n",
    "# Space Complexity:  O(1)\n",
    "\n",
    "#  Stable -> No\n",
    "#  inplace -> No\n",
    "\n",
    "l = [3,3,68,6,4,54,7768,68,68,656,56]\n",
    "\n",
    "\n",
    "def heapify(l, n, i):\n",
    "    largest = i\n",
    "    left = 2 * i + 1\n",
    "    right = 2 * i + 2\n",
    "    if left < n and l[left] > l[largest]:\n",
    "        largest = left\n",
    "    if right < n and l[right] > l[largest]:\n",
    "        largest = right\n",
    "    if largest != i:\n",
    "        l[i], l[largest] = l[largest], l[i]\n",
    "        heapify(l, n, largest)\n",
    "\n",
    "def heap_sort(l):\n",
    "    n = len(l)\n",
    "    for i in range(n, -1, -1):\n",
    "        heapify(l, n, i)\n",
    "    for i in range(n - 1, 0, -1):\n",
    "        l[i], l[0] = l[0], l[i]\n",
    "        heapify(l, i, 0)\n",
    "    return l\n",
    "\n",
    "print(heap_sort(l))\n",
    "\n",
    "\n",
    "# Psuedo Code\n",
    "\n",
    "# 1.  Build a max heap from the input data.\n",
    "# 2.  At this point, the largest item is stored at the root of the heap. Replace it with the last item of the heap followed by reducing the size of heap by 1.\n",
    "# 3.  Finally, heapify the root of the tree.\n",
    "# 4.  Repeat above steps while size of heap is greater than 1.\n",
    "\n",
    "# Pros\n",
    "\n",
    "# 1.  Efficient for large data sets\n",
    "# 2.  Not a comparison based sorting algorithm\n",
    "#3.   memory usage is minimal\n",
    "\n",
    "# Cons\n",
    "\n",
    "# 1.  Quick sort is much more efficient than Heap in many cases"
   ]
  },
  {
   "cell_type": "markdown",
   "metadata": {},
   "source": [
    "#  Bucket Sort "
   ]
  },
  {
   "cell_type": "code",
   "execution_count": null,
   "metadata": {},
   "outputs": [],
   "source": [
    "#  Bucket Sort ->  useful when input is uniformly distributed over a range. like all elements in the array are in the range of 0 to 1.\n",
    "\n",
    "# Time Complexity:         best case O(n)\n",
    "                        # worst case O(n)\n",
    "                        # average case O(n)\n",
    "# Space Complexity:  O(n)\n"
   ]
  },
  {
   "cell_type": "markdown",
   "metadata": {},
   "source": [
    "#  TimSort "
   ]
  },
  {
   "cell_type": "code",
   "execution_count": 8,
   "metadata": {},
   "outputs": [
    {
     "name": "stdout",
     "output_type": "stream",
     "text": [
      "[3, 3, 4, 6, 54, 56, 68, 68, 68, 656, 7768]\n"
     ]
    }
   ],
   "source": [
    "#  TimSort    Sort  -> based on Insertion Sort and Merge Sort. \n",
    "#        First sort small pieces using Insertion Sort, then merges the pieces using a merge of merge sort.\n",
    "#  Used in Java’s Arrays.sort() as well as Python’s sorted() and sort().\n",
    "\n",
    "\n",
    "# Time Complexity:         best case O(n )\n",
    "                        # worst case O(n log n)         \n",
    "                        # average case O(n log n)\n",
    "# Space Complexity:  O(n)      , extra space is used to store the buckets\n",
    "\n",
    "# Stable -> yes\n",
    "# inplace -> No\n",
    "\n",
    "l = [3,3,68,6,4,54,7768,68,68,656,56]\n",
    "l.sort()\n",
    "print(l)\n",
    "\n",
    "# Psuedo Code\n",
    "\n",
    "# 1.  Sort small pieces using Insertion Sort.\n",
    "# 2.  Then merges the pieces using a merge of merge sort.\n"
   ]
  },
  {
   "cell_type": "markdown",
   "metadata": {},
   "source": [
    "# Traversing "
   ]
  },
  {
   "cell_type": "code",
   "execution_count": 4,
   "metadata": {},
   "outputs": [
    {
     "name": "stdout",
     "output_type": "stream",
     "text": [
      "Preorder traversal of binary tree is\n",
      "S\n",
      "A\n",
      "B\n",
      "D\n",
      "E\n",
      "C\n",
      "G\n",
      "H\n",
      "I\n",
      "K\n",
      "J\n"
     ]
    }
   ],
   "source": [
    "# DFS -> Depth First Search\n",
    "\n",
    "## 3 types of DFS\n",
    "## 1.  Preorder  -> root -> left -> right\n",
    "## 2.  Inorder  -> left -> root -> right      -> sorted order\n",
    "## 3.  Postorder -> left -> right -> root\n",
    "\n",
    "# BFS -> Breadth First Search(Level order traversal)\n",
    "\n",
    "class Node:\n",
    "\tdef __init__(self, key):\n",
    "\t\tself.left = None\n",
    "\t\tself.right = None\n",
    "\t\tself.val = key\n",
    "\n",
    "\n",
    "def printPreorder(root):\n",
    " \n",
    "    if root:\n",
    "        print(root.val)\n",
    "        printPreorder(root.left)\n",
    "        printPreorder(root.right)\n",
    "\n",
    "root = Node(\"S\")\n",
    "root.left = Node(\"A\")\n",
    "root.right = Node(\"H\")\n",
    "root.left.left = Node(\"B\")\n",
    "root.left.left.left = Node(\"D\")\n",
    "root.left.left.right = Node(\"E\")\n",
    "root.left.right = Node(\"C\")\n",
    "root.left.right.right = Node(\"G\")\n",
    "root.right.right = Node(\"J\")\n",
    "root.right.left = Node(\"I\")\n",
    "root.right.left.right = Node(\"K\")\n",
    "\n",
    "print(\"Preorder traversal of binary tree is\")\n",
    "printPreorder(root)\n",
    "\n",
    "\n",
    "# BFS\n",
    "\n",
    "\n",
    "class Node:\n",
    "\tdef __init__(self, key):\n",
    "\t\tself.data = key\n",
    "\t\tself.left = None\n",
    "\t\tself.right = None\n",
    "\n",
    "def BFS(root):\n",
    "\th = height(root)\n",
    "    \n",
    "\tfor i in range(1, h+1):\n",
    "\t\tprintCurrentLevel(root, i)\n",
    "\n",
    "def printCurrentLevel(root, level):\n",
    "\tif root is None:\n",
    "\t\treturn\n",
    "\tif level == 1:\n",
    "\t\tprint(root.data, end=\" -> \")\n",
    "\telse:\n",
    "\t\tprintCurrentLevel(root.left, level-1)\n",
    "\t\tprintCurrentLevel(root.right, level-1)\n",
    "\n",
    "def height(node):\n",
    "\tif node is None:\n",
    "\t\treturn 0\n",
    "\telse:\n",
    "\t\tlheight = height(node.left)\n",
    "\t\trheight = height(node.right)\n",
    "\t\tif lheight > rheight:\n",
    "\t\t\treturn lheight+1\n",
    "\t\telse:\n",
    "\t\t\treturn rheight+1\n",
    "\n",
    "\n",
    "root = Node(4)\n",
    "root.left = Node(2)\n",
    "root.right = Node(6)\n",
    "root.left.left = Node(1)\n",
    "root.left.right = Node(3)\n",
    "root.right.right = Node(7)\n",
    "root.right.left = Node(5)\n",
    "\n",
    "\n",
    "print(\"height of tree is:\", height(root)-1)\n",
    "print(\"BFS traversal of binary tree is -\")\n",
    "BFS(root)\n"
   ]
  }
 ],
 "metadata": {
  "kernelspec": {
   "display_name": "Python 3.8.7 64-bit",
   "language": "python",
   "name": "python3"
  },
  "language_info": {
   "codemirror_mode": {
    "name": "ipython",
    "version": 3
   },
   "file_extension": ".py",
   "mimetype": "text/x-python",
   "name": "python",
   "nbconvert_exporter": "python",
   "pygments_lexer": "ipython3",
   "version": "3.8.7"
  },
  "orig_nbformat": 4,
  "vscode": {
   "interpreter": {
    "hash": "b82bd812b6a37d04ba59de08f4dfa67a262de1c3e27303c0cb0a5b38b381c61f"
   }
  }
 },
 "nbformat": 4,
 "nbformat_minor": 2
}
