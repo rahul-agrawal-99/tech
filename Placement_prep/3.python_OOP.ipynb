{
 "cells": [
  {
   "cell_type": "markdown",
   "metadata": {},
   "source": [
    "### programming language\n",
    "#### Programming languages are computer languages that are used to instruct the computer to perform some functions.\n",
    "\n",
    "### Flow of execution\n",
    "\n",
    "#### source code -> compiler -> object code -> linker -> executable code (machine code)\n",
    "\n",
    "### Tpes of programming languages\n",
    "\n",
    "#### 1. Low level language ->  requires assembler for translation , machine dependent , e.g. assembly language like NASM\n",
    "#### 2. High level language -> requires compiler/interpreter for translation , machine independent , e.g. C, C++, Java, Python, etc.\n",
    "\n",
    "#### also we have 2 types of programming languages based on the way they are executed\n",
    "#### 1.Imperative programming language ->  e.g. C, C++, Java, Python, etc. (procedural, object oriented)\n",
    "#### 2. Declarative programming language -> e.g. SQL, Prolog, etc.   (logic, functional ,Database)\n",
    "\n",
    "#### High level language is further divided into\n",
    "\n",
    "### Procedural Vs Object-Oriented Programming\n",
    "\n",
    "#### Procedural programming ->  a programming paradigm based on the concept of procedure call. It uses procedures to structure a computer program into a number of subroutines, which contain a sequence of computational steps to be carried out. The main aim of procedural programming is to break down a complex problem into smaller and simpler problems. It is also known as structured programming. it has controlled flow of execution.\n",
    "\n",
    "####  object-oriented Programming (OOPs) is a programming paradigm that uses objects and classes in programming. It aims to implement real-world entities like inheritance, polymorphisms, encapsulation, etc. in the programming. The main concept of OOPs is to bind the data and the functions that work on that together as a single unit so that no other part of the code can access this data.\n",
    "### E.g. Python , Java , JS , PHP , C++ , C# , Ruby , Swift , Scala , R , Scala , Dart , Groovy , Kotlin , etc.\n",
    "## Advantages of OOPs\n",
    "#### Procedural language is based on functions but object oriented language is based on real world objects.\n",
    "#### Procedural language gives importance on the sequence of function execution but object oriented language gives importance on states and behaviors of the objects.\n",
    "#### Procedural language exposes the data to the entire program but object oriented language encapsulates the data.\n",
    "#### Procedural language follows top down programming paradigm but object oriented language follows bottom up programming paradigm.\n",
    "#### Procedural language is complex in nature so it is difficult to modify, extend and maintain but object oriented language is less complex in nature so it is easier to modify, extend and maintain.\n",
    "#### Procedural language provides less scope of code reuse but object oriented language provides more scope of code reuse.\n",
    "\n",
    "\n",
    "### 1. Modularity for easier troubleshooting due to better code maintenance\n",
    "### 2. Code Reusability.\n",
    "### 3. Faster development and increased Productivity\n",
    "### 4. allows to break a large program into small chunks\n",
    "### 5. Security due to encapsulation and abstraction\n",
    "\n",
    "## Disadvantages of OOPs\n",
    "### 1. larger size than procedural programming\n",
    "### 2. Can not applicable to every problem\n",
    "### 3. requires more timea and skills to develop"
   ]
  },
  {
   "cell_type": "markdown",
   "metadata": {},
   "source": [
    "## Main Concepts/features/Pillers of Object-Oriented Programming (OOPs) \n",
    "### Class & Objects\n",
    "### Polymorphism\n",
    "### Inheritance\n",
    "### Data Abstraction & Encapsulation\n"
   ]
  },
  {
   "cell_type": "markdown",
   "metadata": {},
   "source": [
    "# class \n",
    "#### class is a collection of objects. A class contains the blueprints or the prototype from which the objects are being created. \n",
    "####  It is a logical entity that contains some attributes and methods. Class  uses heap memory to store its objects while structure uses stack memory to store its objects.  \n",
    "\n",
    "## Constructor\n",
    "#### Constructor is a special method that is used to initialize the instance members of the class. It is called when an object of a class is created. It is used to allocate the memory for the object.\n",
    "### Types of constructor\n",
    "#### 1. Default constructor  ->  constructor with no arguments\n",
    "#### 2. Parameterized constructor  -> constructor with arguments\n",
    "#### 3. Copy constructor  -> constructor with object as argument\n",
    "### Constructor Overloading\n",
    "#### Constructor overloading is a feature that allows a class to have more than one constructor with different parameters. It is a way to provide more flexibility to the programmer to create an object of a class. It is only possible in C++ and Java. if in python multiple constructor are defined in same class , then constructor mentioned at last will be used \n",
    "\n",
    "\n",
    "## Destructor\n",
    "#### Destructor is a special method that is used to destroy the instance members of the class. It is called when an object of a class goes out of scope or when the delete keyword is applied to an object of a class. It is used to deallocate the memory of the object.\n",
    "\n",
    "# Object\n",
    "\n",
    "#### object is an instance of a class , also known as instance variable. \n",
    "\n",
    "### We does not need to use objects to access static methods by directly using class name.\n",
    "\n",
    "\n",
    "# Access Specifiers\n",
    "### They are used to specify the accessibility of the class members. They are used to restrict the access of the class members from outside the class.\n",
    "\n",
    "## Public\n",
    "#### Public members are accessible from anywhere in the program. It is the default access specifier for the members of a class.\n",
    "#### Also it can be accessed without using any object of the class. e.g. class_name.member_name\n",
    "\n",
    "## Private\n",
    "#### Private members are accessible only within the class. It can not be accessed outside the class. It can be accessed only by the member functions of the class. We need to use Getters and Setters to access the private members of the class.\n",
    "\n",
    "## Protected\n",
    "#### Protected members are accessible within the class and by the derived class. It can not be accessed outside the class. It can be accessed only by the member functions of the class. We need to use Getters and Setters to access the protected members of the class.\n",
    "#### But in python , we can access it via instance of the class(object)\n",
    "### Friend function -> it is a function that is declared as a friend of a class. It can access the private and protected members of the class. It is not a member function of the class. It can be defined outside the class using the scope resolution operator ::. It can be declared using the keyword friend.\n",
    "\n",
    "## Super Keyword\n",
    "#### It is used to refer the immediate parent class of the class. It is used to call the constructor of the parent class. It is used to call the member function of the parent class. It is used to refer the immediate parent class object.\n",
    "#### Super Priority -> for class A(B,C)  -> super will search in B first then in C\n",
    "\n",
    "\n",
    "## Binding\n",
    "#### Binding refers to the process of converting identifiers (such as variable and performance names) into addresses. Binding is done for each variable and functions.  It takes place either at compile time (Early) or at runtime(Late).\n",
    "\n",
    "### Early Binding  (static binding)\n",
    "#### which function is going to be called is decided at compile time\n",
    "#### e.g. function overloading \n",
    "\n",
    "### Late Binding (Dynamic Binding)\n",
    "#### which function is going to be called is decided at runtime like in case of virtual functions\n",
    "#### e.g. function overriding\n",
    "\n",
    "\n",
    "#### Size of Empty class object -> 1 byte to ensure every object will have different address\n",
    "\n"
   ]
  },
  {
   "cell_type": "code",
   "execution_count": 5,
   "metadata": {},
   "outputs": [
    {
     "name": "stdout",
     "output_type": "stream",
     "text": [
      "class A with parameterized constructor as a =  4\n",
      "a is : 10\n",
      "obj1._b is : 21\n",
      "class A destructor\n"
     ]
    }
   ],
   "source": [
    "\n",
    "\n",
    "class A:\n",
    "    a = 10      # by default, access is public , using object any public variable can be accessed , like object.a / class_name.a\n",
    "    _b = 20      #   protected variable , can be accessed within the class , its subclasses through inheritance and instance of the class(object)\n",
    "    __c = 30     # private variable , can be accessed only within the class\n",
    "\n",
    "             \n",
    "\n",
    "    def __init__(self,a):   # parameterized constructor\n",
    "        self.a = a\n",
    "        print(\"class A with parameterized constructor as a = \",a)\n",
    "\n",
    "    def _fun1(self) -> None:     # protected method , can be accessed within the class  , its subclasses through inheritance and \n",
    "        print(\"in fun1 of class A\")\n",
    "\n",
    "    def __fun2(self):   # private method , can be accessed only within the class , can be used as helper function within class\n",
    "        print(\"in class A fun2 which is private\")\n",
    "\n",
    "    def funa(self):    # public method  \n",
    "        print(\"in funa of class A\")\n",
    "\n",
    "    def __del__(self):    # destructor\n",
    "        print(\"class A destructor\")\n",
    "\n",
    "\n",
    "obj1 = A(4)  # invoke default constructor\n",
    "\n",
    "print(\"a is :\", A.a)    # access public variable\n",
    "\n",
    "obj1.a = 10  # assign value to public variable , also done using A.a   , without object only can be with public and protected variable\n",
    "obj1._b = 21  # assign value to protected variable ,\n",
    "print(\"obj1._b is :\", obj1._b)    # access public variable\n",
    "# print(obj1.__c)       # it will throw error , because private variable can not be accessed outside the class\n",
    "\n",
    "del obj1   # invoke destructor\n",
    "    "
   ]
  },
  {
   "cell_type": "code",
   "execution_count": 14,
   "metadata": {},
   "outputs": [
    {
     "name": "stdout",
     "output_type": "stream",
     "text": [
      "parameterized constructor is called\n",
      "class B has been initialized and having following attributes :  {'a': 1, 'b': 2}\n",
      "copy constructor is called\n",
      "class B has been initialized and having following attributes :  {'a': 1, 'b': 2}\n"
     ]
    }
   ],
   "source": [
    "# Copy constructor in Python\n",
    "\n",
    "class B:\n",
    "\n",
    "    def __init__(self, other=None , **kwargs):\n",
    "        if other is None:\n",
    "            print(\"parameterized constructor is called\")\n",
    "            for key, value in kwargs.items():\n",
    "                setattr(self, key, value)\n",
    "        else:\n",
    "            print(\"copy constructor is called\")\n",
    "            for key, value in other.__dict__.items():\n",
    "                setattr(self, key, value)\n",
    "        \n",
    "        print(\"class B has been initialized and having following attributes : \",self.__dict__)\n",
    "\n",
    "\n",
    "\n",
    "obj1 = B(a=1,b=2)  # invoke default constructor\n",
    "\n",
    "obj2 = B(obj1)  # invoke copy constructor\n",
    "\n",
    "\n"
   ]
  },
  {
   "cell_type": "markdown",
   "metadata": {},
   "source": [
    "#  Inheritance  \n",
    "### capability of one class to derive or inherit the properties from another class\n",
    "#### Important benefits of inheritance are code reusability and reduction of complexity of a program. The derived classes (descendants) override or extend the functionality of base classes (ancestors).\n",
    "\n",
    "##  Types of Inheritance :\n",
    "### 1. Single Inheritance\n",
    "#### derived from only 1  single-parent class.\n",
    "### 2. Multilevel Inheritance\n",
    "#### inherit properties from an immediate parent class which in turn inherits properties from his parent class.\n",
    "#### e.g. class A -> class B(A) -> class C(B)\n",
    "### 3. Hierarchical Inheritance \n",
    "#### more than one derived class to inherit properties from a parent class.\n",
    "#### e.g. class A -> class B(A) , class C(A)\n",
    "### 4. Multiple Inheritance (Diamond Problem)\n",
    "#### inherit properties from more than one base class.\n",
    "#### e.g. class A , class B -> class C(A,B)\n",
    "### 5. Hybrid Inheritance\n",
    "#### combination of more than one type of inheritance.\n",
    "#### e.g. class A -> class B(A) , class C(A) -> class D(B,C)\n",
    "\n",
    "\n",
    "\n",
    "### In Java\n",
    "#### Only single, multilevel and Hierarchical inheritance is supported in Java. Multiple inheritance is not supported in Java because of ambiguity. It is also known as the diamond problem in Java. It is the problem of having two parents with the same method name and same parameters. It is not supported in Java because it leads to ambiguity. \n",
    "\n",
    "### In Python, C++\n",
    "#### supports all types of inheritance. "
   ]
  },
  {
   "cell_type": "code",
   "execution_count": 46,
   "metadata": {},
   "outputs": [
    {
     "name": "stdout",
     "output_type": "stream",
     "text": [
      "in class B constructor\n",
      "class A with parameterized constructor as a =  34\n",
      "in funa of class A\n",
      "in funb\n",
      "in funa of class A\n",
      "in funa of class B\n"
     ]
    }
   ],
   "source": [
    "\n",
    "#  single inheritance\n",
    "class B(A):\n",
    "    def __init__(self,a):\n",
    "        print(\"in class B constructor\")\n",
    "        super().__init__(a)  # super() is used to invoke parent class methods\n",
    "        self.a = a\n",
    "\n",
    "    def funb(self):\n",
    "        super().funa()  # super() is used to invoke parent class method\n",
    "        print(\"in funb\")\n",
    "\n",
    "    def funa(self):   # override method of parent class\n",
    "        super().funa()  # super() is used to invoke parent class method\n",
    "        print(\"in funa of class B\")\n",
    "\n",
    "\n",
    "\n",
    "\n",
    "b = B(34)\n",
    "b.funb()\n",
    "b.funa()      # object of class B can access all public and protected method of class A\n",
    "\n",
    "\n"
   ]
  },
  {
   "cell_type": "code",
   "execution_count": 34,
   "metadata": {},
   "outputs": [
    {
     "name": "stdout",
     "output_type": "stream",
     "text": [
      "in class C constructor\n",
      "in class B constructor\n",
      "class A with parameterized constructor as a =  45\n",
      "in funa of class A\n",
      "in func\n"
     ]
    }
   ],
   "source": [
    "\n",
    "# multilevel inheritance\n",
    "\n",
    "class C(B):         #  class C inherits properties from class B that inherits properties from class A\n",
    "    def __init__(self,a):\n",
    "        print(\"in class C constructor\")\n",
    "        super().__init__(a)  # super() is used to invoke parent class constructor\n",
    "        self.a = a\n",
    "\n",
    "    def func(self):\n",
    "        super().funa()  # super() is used to invoke parent class method\n",
    "        print(\"in func\")\n",
    "\n",
    "c = C(45)\n",
    "c.func()"
   ]
  },
  {
   "cell_type": "code",
   "execution_count": 39,
   "metadata": {},
   "outputs": [
    {
     "name": "stdout",
     "output_type": "stream",
     "text": [
      "in class D constructor\n",
      "class A with parameterized constructor as a =  56\n",
      "in funa of class A\n",
      "in fund\n"
     ]
    }
   ],
   "source": [
    "#  Hierarchical Inheritance\n",
    "\n",
    "#         A\n",
    "#        / \\\n",
    "#       B   C\n",
    "\n",
    "class E(A):        # all the classes should not be inherited from one another\n",
    "    def __init__(self,a):\n",
    "        print(\"in class D constructor\")\n",
    "        super().__init__(a)  # super() is used to invoke parent class constructor\n",
    "        self.a = a\n",
    "\n",
    "    def fund(self):\n",
    "        super().funa()  # super() is used to invoke parent class method\n",
    "        print(\"in fund\")\n",
    "\n",
    "e = E(56)\n",
    "e.fund()"
   ]
  },
  {
   "cell_type": "code",
   "execution_count": 42,
   "metadata": {},
   "outputs": [
    {
     "name": "stdout",
     "output_type": "stream",
     "text": [
      "in class D constructor\n",
      "in class C constructor\n",
      "in class B constructor\n",
      "class A with parameterized constructor as a =  56\n",
      "in funa of class A\n",
      "in funs\n",
      "in fund\n"
     ]
    }
   ],
   "source": [
    "#  Multiple Inheritance\n",
    "\n",
    "class S:\n",
    "    def __init__(self,a):\n",
    "        print(\"in class S constructor\")\n",
    "        self.a = a\n",
    "\n",
    "    def funs(self):\n",
    "        print(\"in funs\")\n",
    "\n",
    "#     C    S\n",
    "#      \\  /\n",
    "#       \\/\n",
    "#        D\n",
    "\n",
    "class D(C,S):        # all the classes should not be inherited from one another\n",
    "    def __init__(self,a):\n",
    "        print(\"in class D constructor\")\n",
    "        super().__init__(a)  # super() is used to invoke parent class constructor\n",
    "        self.a = a\n",
    "\n",
    "    def fund(self):\n",
    "        super().funa()  # super() is used to invoke parent class method , also C.funa()  can be used\n",
    "        super().funs()  # super() is used to invoke parent class method  , also S.funs()  can be used\n",
    "        print(\"in fund\")\n",
    "\n",
    "d= D(56)\n",
    "d.fund()"
   ]
  },
  {
   "cell_type": "markdown",
   "metadata": {},
   "source": [
    "#  Polymorphism \n",
    "### ability of an object to take on many forms. The process of using an object in a way that varies from its original form.\n",
    "####  For example, we need to determine if the given species of birds fly or not, using polymorphism we can do this using a single function\n",
    "###  in python , + operator is overloaded       , e.g. of polymorphism\n",
    "### Like\n",
    "####  1. it can be used to add two numbers \n",
    "#### 2.it can be used to concatenate two strings\n",
    "#### 3. it can be used to add two objects of same class"
   ]
  },
  {
   "cell_type": "code",
   "execution_count": 7,
   "metadata": {},
   "outputs": [
    {
     "name": "stdout",
     "output_type": "stream",
     "text": [
      "There are many types of birds.\n",
      "Sparrows can fly.\n",
      "There are many types of birds.\n",
      "Ostriches cannot fly.\n",
      "There are many types of birds.\n",
      "Most of the birds can fly but some cannot.\n"
     ]
    }
   ],
   "source": [
    "\n",
    "\n",
    "\n",
    "class Bird:\n",
    "    def intro(self):\n",
    "        print(\"There are many types of birds.\")\n",
    "    def flight(self):\n",
    "        print(\"Most of the birds can fly but some cannot.\")\n",
    " \n",
    "class sparrow(Bird):\n",
    "    def flight(self):\n",
    "        print(\"Sparrows can fly.\")\n",
    " \n",
    "class ostrich(Bird):\n",
    "    def flight(self):\n",
    "        print(\"Ostriches cannot fly.\")\n",
    "\n",
    "\n",
    "Asparrow = sparrow()\n",
    "\n",
    "Aostrich = ostrich()\n",
    "\n",
    "Asparrow.intro()\n",
    "Asparrow.flight()\n",
    "\n",
    "Aostrich.intro()\n",
    "Aostrich.flight()\n",
    "\n",
    "crow = Bird()\n",
    "crow.intro()\n",
    "crow.flight()\n",
    "\n"
   ]
  },
  {
   "cell_type": "markdown",
   "metadata": {},
   "source": [
    "# Overloading And Overriding\n",
    "\n",
    "## Overloading\n",
    "### Use different methods with the same name but different parameters.\n",
    "#### Overloading is a feature that allows a class to have more than one method with the same name but different parameters. It is a way to provide more flexibility to the programmer to create an object of a class. It is only possible in C++ and Java. if in python multiple constructor are defined in same class , then constructor mentioned at last will be used\n",
    "#### can be done without Inheritance , Compile time polymorphism\n",
    "\n",
    "## Overriding\n",
    "### Replacement of code of function of parent class by child class\n",
    "#### Overriding is a feature that allows a derived class to provide a specific implementation of a method that is already provided by one of its base classes. The implementation in the derived class overrides (replaces) the implementation in the base class. It is only possible in C++ and Java. if in python multiple constructor are defined in same class , then constructor mentioned at last will be used\n",
    "#### requires use of Inheritance , Run time polymorphism"
   ]
  },
  {
   "cell_type": "markdown",
   "metadata": {},
   "source": [
    "# Encapsulation \n",
    "## wrapping data and the methods that work on data within one unit\n",
    "####  This puts restrictions on accessing variables and methods directly and can prevent the accidental modification of data. To prevent accidental change, an object’s variable can only be changed by an object’s method. \n",
    "### A class is an example of encapsulation as it encapsulates all the data that is member functions, variables\n",
    "####   access modifier : public , protected , private are used to encapsulate the data and methods from the user or specific user\n",
    "\n",
    "#### E.g. Company having multiple departments , if one department person requires data of another department , he cant access directly , for that he has to contact person of that department(object) , so that person can access data of another department , this is encapsulation"
   ]
  },
  {
   "cell_type": "markdown",
   "metadata": {},
   "source": [
    "# Data Abstraction \n",
    "### hides the unnecessary code details from the user. \n",
    "####  Also,  when we do not want to give out sensitive parts of our code implementation and this is where data abstraction came.\n",
    "#### Abstraction is used to hide the internal functionality of the function from the users. The users only interact with the basic implementation of the function, but inner working is hidden. User is familiar with that \"what function does\" but they don't know \"how it does.\"\n",
    "\n",
    "## Abstract Class\n",
    "#### Abstract class is a class that is declared abstract—it may or may not include abstract methods. Abstract classes cannot be instantiated, but they can be subclassed. An abstract class may contain a mix of methods declared with or without an implementation. Methods declared without an implementation are abstract methods. A class that contains one or more abstract methods must also be declared abstract. The abstract keyword appears before the class keyword.\n",
    "\n",
    "## Abstract Method\n",
    "#### Abstract methods do not contain their implementation. Abstract class can be inherited by the subclass and abstract method gets its definition in the subclass.\n",
    "\n",
    "## Interface\n",
    "#### It is way to achieve abstraction in Java\n",
    "\n"
   ]
  },
  {
   "cell_type": "code",
   "execution_count": 8,
   "metadata": {},
   "outputs": [
    {
     "name": "stdout",
     "output_type": "stream",
     "text": [
      "in base class fun method i.e. abstract\n",
      "in child class fun method\n",
      "in base class fun2 method \n"
     ]
    }
   ],
   "source": [
    "\n",
    "# An abstract class is a class which cannot be instantiated. Creation of an object is not possible with abstract class , but it can be inherited\n",
    "\n",
    "#  Abstract class in Python :\n",
    "#     By default, Python does not provide abstract classes. \n",
    "#      Python comes with a module that provides the base for defining Abstract Base classes(ABC) and that module name is ABC\n",
    "#     A method becomes abstract when decorated with the keyword @abstractmethod\n",
    "\n",
    "from abc import ABC , abstractmethod\n",
    "\n",
    "class base(ABC):  # base class can not be instantiated\n",
    "    @abstractmethod   # every abstract method in abstract class must be implemented/overrided in the derived class\n",
    "    def fun(self):\n",
    "        print(\"in base class fun method i.e. abstract\" )\n",
    "\n",
    "    def fun2(self):\n",
    "        print(\"in base class fun2 method \" )\n",
    "\n",
    "class child(base):\n",
    "    def fun(self):   # method overriding \n",
    "        super().fun()  # calling parent class fun method\n",
    "        print(\"in child class fun method\")\n",
    "\n",
    "        \n",
    "# b = base() # Can't instantiate abstract class base with abstract methods fun\n",
    "c = child()\n",
    "c.fun()   # calls fun() of child  , return error if fun() is not overridden in the child class\n",
    "c.fun2()   # fun2 will acts as normal method of base class"
   ]
  }
 ],
 "metadata": {
  "kernelspec": {
   "display_name": "Python 3.8.7 64-bit",
   "language": "python",
   "name": "python3"
  },
  "language_info": {
   "codemirror_mode": {
    "name": "ipython",
    "version": 3
   },
   "file_extension": ".py",
   "mimetype": "text/x-python",
   "name": "python",
   "nbconvert_exporter": "python",
   "pygments_lexer": "ipython3",
   "version": "3.8.7"
  },
  "orig_nbformat": 4,
  "vscode": {
   "interpreter": {
    "hash": "b82bd812b6a37d04ba59de08f4dfa67a262de1c3e27303c0cb0a5b38b381c61f"
   }
  }
 },
 "nbformat": 4,
 "nbformat_minor": 2
}
