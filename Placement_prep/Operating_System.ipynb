{
 "cells": [
  {
   "cell_type": "markdown",
   "metadata": {},
   "source": [
    "# Operating System\n",
    "\n",
    "#### An operating system acts as an intermediary between the user of a computer and computer hardware. The purpose of an operating system is to provide an environment in which a user can execute programs conveniently and efficiently. \n",
    "\n",
    "####  An operating system is software that manages computer hardware. The hardware must provide appropriate mechanisms to ensure the correct operation of the computer system and to prevent user programs from interfering with the proper operation of the system.\n",
    "\n",
    "## Features of OS\n",
    "\n",
    "#### 1. Convenience\n",
    "#### 2. Efficiency\n",
    "#### 3. Ability to evolve and control system resources\n",
    "#### 4. Ability to handle multiprogramming and multiprocessing\n",
    "\n",
    "## Functions of OS\n",
    "\n",
    "#### 1. Process Management\n",
    "#### 2. Memory Management\n",
    "#### 3. File Management\n",
    "#### 4. Device Management (IO)\n",
    "#### 5. Protection and Security\n",
    "#### 6. Networking\n",
    "#### 7. Error Detection and Recovery\n",
    "\n",
    "## Types of OS\n",
    "\n",
    "#### 1. Batch Operating System  -> similar jobs are grouped together into batches with the help of some operator and these batches are executed one by one.\n",
    "#### 2. Time Sharing Operating System -> more than one processes are being executed at a particular time with the help of the time-sharing concept using time quantum.\n",
    "#### 3. Real Time Operating System ->  used in the situation where we are dealing with some real-time data , and there should be no dealy i.e. no buffer delays should be there.\n",
    "#### 4. Distributed Operating System -> have various systems and all these systems have their own resources and they are connected to each other through a network.\n",
    "#### 5. Embedded Operating System -> used in embedded systems like mobile phones, cars, etc. , Embedded Operating System is designed to perform a specific task for a particular device which is not a computer"
   ]
  },
  {
   "cell_type": "markdown",
   "metadata": {},
   "source": [
    "# Kernal\n",
    "\n",
    "#### kernel is the core part of an operating system. It manages the tasks of the computer and the hardware - most notably memory and CPU time.\n",
    "\n",
    "#### A computer user never interacts directly with the kernel. It runs behind the scenes and cannot be seen.\n",
    "#### Kernel is the most fundamental part of operating system it can be thought as program which controls all other programs.\n",
    "\n",
    "## Kernal Functions\n",
    "\n",
    "#### 1. Resource Allocation: - to manage the computer’s resource and allow other programs to run and use these resources.\n",
    "\n",
    "#### 2. Process Management: - allow the execution of application.\n",
    "\n",
    "#### 3. Memory Management: - allow process to access the memory which is require to run the process\n",
    "\n",
    "#### 4. Disk Management: - for creating, deleting, formatting partition etc…\n",
    "\n",
    "#### 5. I/O Device Management: - maintains list of available devices and provides I/O to physically access this device through some port or memory location.\n",
    "\n",
    "#### 6. Security or Protection management: -provide security from faults and from malicious behaviors.\n",
    "\n",
    "## Types of Kernal\n",
    "### A microkernel, which only contains basic functionality. seperate address space for each process , complex but small and fast , e.g. MAC OS X\n",
    "### A monolithic kernel, which contains many drivers. single address space for all processes , simple but large and slow , e.g. Windows 95 \n",
    "### A hybrid kernel, which contains both microkernel and monolithic kernel. e.g. Windows NT\n",
    "\n",
    "\n",
    "## Kernal vs OS\n",
    "\n",
    "#### An operating system is one of the most important components that helps in managing computer software and hardware resources. But Kernel is a core element of the OS that converts the user query into the machine language. OS provides an interface between hardware and user And Kernal provides an interface between application and hardware"
   ]
  },
  {
   "cell_type": "markdown",
   "metadata": {},
   "source": [
    "# Virtual Memory\n",
    "\n",
    "#### Virtual memory is a memory management technique that allows a computer to use a portion of its hard disk as if it were RAM. It is a method of extending a computer's physical memory by using a portion of the hard disk as virtual memory.\n",
    "####  In Microprocessor , Virtual Memory is a computer concept where the main memory is broken up into a series of individual pages. Each page is a fixed size and is assigned a unique page number. The page number is used to access the page in memory. The page number is stored in the page table. The page table is a table of page numbers and their corresponding physical memory addresses. The page table is stored in the main memory. The page table is used to translate the page number into a physical memory address. The page table is stored in the main memory. The page table is used to translate the page number into a physical memory address.\n",
    "\n",
    "# Paging\n",
    "\n",
    "#### Paging is a memory management scheme by which the OS can make a physical address for each page in the virtual address space. The OS uses a page table to keep track of the mapping between the virtual and physical addresses. The page table is stored in main memory. The page table is used to translate the page number into a physical memory address. The page table is stored in the main memory. The page table is used to translate the page number into a physical memory address.\n",
    "\n",
    "# Segmentation\n",
    "\n",
    "#### Segmentation is a memory management technique in which each job is divided into several segments of different sizes, one for each module that contains pieces that perform related functions. Each segment is actually a different logical address space of the program.\n",
    "\n",
    "## Paging vs Segmentation\n",
    "\n",
    "#### In paging, the program is divided into fixed or mounted size pages but In segmentation, the program is divided into variable size sections.\n",
    "#### in paging , Page size is determined by hardware.\tbut in segmentation the section size is given by the user\n",
    "#### Paging could result in internal fragmentation And Segmentation could result in external fragmentation.\n",
    "#### Paging is invisible to the user.\tSegmentation is visible to the user.\n",
    "\n",
    "## Bootstrap programs\n",
    "\n",
    "#### A bootstrap program is the first code that is executed when the computer system is started. The entire operating system depends on the bootstrap program to work correctly as it loads the operating system. \n",
    "\n",
    "## Cache memory\n",
    "\n",
    "#### Cache memory is a chip-based computer component that makes retrieving data from the computer's memory more efficient. It acts as a temporary storage area that the computer's processor can retrieve data from easily."
   ]
  },
  {
   "cell_type": "markdown",
   "metadata": {},
   "source": [
    "# Program\n",
    "\n",
    "\n",
    "# Process\n",
    "\n",
    "\n",
    "# Thread\n",
    "\n",
    "\n",
    "## process vs thread \n",
    "\n",
    "\n",
    "## program vs process\n",
    "\n",
    "\n",
    "## Multitasking \n",
    "## Multiprocessing\n",
    "## Multithreading \n",
    "## Multiprogramming\n",
    "\n",
    "\n"
   ]
  },
  {
   "cell_type": "markdown",
   "metadata": {},
   "source": [
    "# State of a process\n",
    "\n",
    "\n",
    "## Preemptive vs Non preemptive\n",
    "\n",
    "# Process scheduling\n",
    "\n",
    "\n",
    "## Zombie vs Orphan process"
   ]
  },
  {
   "cell_type": "markdown",
   "metadata": {},
   "source": [
    "# Deadlock\n",
    "\n",
    "## Deadlock prevention Algorithms\n",
    "\n",
    "# Starvation\n",
    "\n",
    "# Aging\n",
    "\n",
    "# Livelock\n",
    "\n",
    "\n",
    "# Thrashing\n",
    "\n"
   ]
  },
  {
   "cell_type": "markdown",
   "metadata": {},
   "source": [
    "# RAID\n",
    "\n",
    "# GUI\n",
    "\n",
    "Command line interface : bash, sh, dash, zsh etc.\n",
    "Graphical user interface : GNOME, KDE, Unity, Xfce, Pantheon, etc."
   ]
  },
  {
   "cell_type": "markdown",
   "metadata": {},
   "source": [
    "# Liker \n",
    "\n",
    "\n",
    "# Loader\n",
    "\n",
    "\n",
    "# Assembler\n",
    "\n",
    "\n",
    "# Compiler\n",
    "\n",
    "\n",
    "# Interpreter"
   ]
  },
  {
   "cell_type": "markdown",
   "metadata": {},
   "source": [
    "# Semaphore"
   ]
  },
  {
   "cell_type": "markdown",
   "metadata": {},
   "source": [
    "# Interrupts"
   ]
  },
  {
   "cell_type": "markdown",
   "metadata": {},
   "source": []
  },
  {
   "cell_type": "markdown",
   "metadata": {},
   "source": []
  },
  {
   "cell_type": "markdown",
   "metadata": {},
   "source": []
  }
 ],
 "metadata": {
  "kernelspec": {
   "display_name": "Python 3.8.7 64-bit",
   "language": "python",
   "name": "python3"
  },
  "language_info": {
   "name": "python",
   "version": "3.8.7"
  },
  "orig_nbformat": 4,
  "vscode": {
   "interpreter": {
    "hash": "b82bd812b6a37d04ba59de08f4dfa67a262de1c3e27303c0cb0a5b38b381c61f"
   }
  }
 },
 "nbformat": 4,
 "nbformat_minor": 2
}
