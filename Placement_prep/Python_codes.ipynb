{
 "cells": [
  {
   "cell_type": "code",
   "execution_count": 14,
   "metadata": {},
   "outputs": [
    {
     "name": "stdout",
     "output_type": "stream",
     "text": [
      "Num at 3 is 1\n",
      "Num at 4 is 2\n",
      "Num at 5 is 3\n",
      "Sum of the series is 3\n",
      "Sum upto 5 length is  3\n"
     ]
    }
   ],
   "source": [
    "# Fibonacci series \n",
    "\n",
    "#  iterative way\n",
    "\n",
    "n = 5     # series upto n terms\n",
    "n1, n2 = 0, 1\n",
    "i = 0\n",
    "s = 0 \n",
    "\n",
    "while(i < n - 2):   # n-2 because we already have 2 numbers in the series\n",
    "    s = n1 + n2\n",
    "    n1 = n2\n",
    "    n2 = s\n",
    "    i += 1 \n",
    "    print(f\"Num at {i+2} is {s}\")\n",
    "print(f\"Sum of the series is {s}\")\n",
    "\n",
    "#  recursive way\n",
    "\n",
    "def fib(n):\n",
    "    if n < 2:\n",
    "        return n\n",
    "    else:\n",
    "        return fib(n-1) + fib(n-2)\n",
    "\n",
    "total_n = 5\n",
    "\n",
    "\n",
    "print(f\"Sum upto {total_n} length is \",fib(total_n - 1))   # n-1 because we already have 1 number in the series i.e. 0"
   ]
  },
  {
   "cell_type": "code",
   "execution_count": 17,
   "metadata": {},
   "outputs": [
    {
     "name": "stdout",
     "output_type": "stream",
     "text": [
      "Factorial of 3 is 6\n",
      "Factorial of 3 is 6\n"
     ]
    }
   ],
   "source": [
    "#  Factorial of a number\n",
    "\n",
    "# iterative way\n",
    "\n",
    "n = 3\n",
    "fact = 1\n",
    "for i in range(1,n+1):\n",
    "    fact *= i\n",
    "print(f\"Factorial of {n} is {fact}\")\n",
    "\n",
    "# recursive way\n",
    "\n",
    "def fact(n):\n",
    "    if n == 0:\n",
    "        return 1\n",
    "    else:\n",
    "        return n * fact(n-1)\n",
    "\n",
    "print(f\"Factorial of {n} is {fact(n)}\")"
   ]
  },
  {
   "cell_type": "code",
   "execution_count": 25,
   "metadata": {},
   "outputs": [
    {
     "name": "stdout",
     "output_type": "stream",
     "text": [
      "2,  3,  5,  7,  11,  13,  17,  19,  23,  29,  31,  37,  41,  43,  47,  53,  59,  61,  67,  71,  73,  79,  83,  89,  97,  \n",
      "total prime numbers in range 100 is 25\n",
      "2 is prime: True\n"
     ]
    }
   ],
   "source": [
    "# Prime number in a range\n",
    "\n",
    "\n",
    "n = 100\n",
    "total = 0\n",
    "for i in range(2,n+1):\n",
    "    for j in range(2,i):\n",
    "        if i % j == 0:\n",
    "            break\n",
    "    else:\n",
    "        total += 1\n",
    "        print(f\"{i}, \" , end = \" \")\n",
    "\n",
    "print(f\"\\ntotal prime numbers in range {n} is {total}\")\n",
    "\n",
    "\n",
    "#  check if a number is prime or not\n",
    "\n",
    "n= 86743\n",
    "def check(n):\n",
    "    upto_n = int(n**0.5) + 1    #  decrease the number of iterations\n",
    "    for i in range(2,upto_n):\n",
    "        if n % i == 0:\n",
    "            return False\n",
    "    return True\n",
    "n = 2\n",
    "print(f\"{n} is prime: {check(n)}\")"
   ]
  }
 ],
 "metadata": {
  "kernelspec": {
   "display_name": "Python 3.8.7 64-bit",
   "language": "python",
   "name": "python3"
  },
  "language_info": {
   "codemirror_mode": {
    "name": "ipython",
    "version": 3
   },
   "file_extension": ".py",
   "mimetype": "text/x-python",
   "name": "python",
   "nbconvert_exporter": "python",
   "pygments_lexer": "ipython3",
   "version": "3.8.7"
  },
  "orig_nbformat": 4,
  "vscode": {
   "interpreter": {
    "hash": "b82bd812b6a37d04ba59de08f4dfa67a262de1c3e27303c0cb0a5b38b381c61f"
   }
  }
 },
 "nbformat": 4,
 "nbformat_minor": 2
}
