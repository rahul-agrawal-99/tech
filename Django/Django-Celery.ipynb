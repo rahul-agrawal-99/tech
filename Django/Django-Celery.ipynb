{
 "cells": [
  {
   "attachments": {},
   "cell_type": "markdown",
   "metadata": {},
   "source": [
    "# Celery With Django \n",
    "\n",
    "\n",
    "### Celery is a distributed task queue in Python that allows you to run time-consuming or resource-intensive tasks asynchronously in the background, separate from the main application.\n",
    "\n",
    "### When you have long-running tasks, such as sending email notifications, processing large amounts of data, or generating reports, you may not want to block the user interface or tie up server resources while the task is running. Instead, you can use Celery to delegate the task to a worker process, which will run the task in the background.\n",
    "\n",
    "### Celery works by breaking down a task into smaller units of work called \"tasks\" and \"subtasks\" and distributing them across a cluster of worker processes or machines. The worker processes run the tasks independently of the main application, allowing the main application to continue responding to user requests.\n",
    "\n",
    "### Celery integrates with many popular Python web frameworks, including Django and Flask, and can be used with a variety of messaging brokers, such as RabbitMQ, Redis, and Amazon SQS.\n"
   ]
  },
  {
   "cell_type": "code",
   "execution_count": null,
   "metadata": {},
   "outputs": [],
   "source": [
    "import celery\n",
    "\n",
    "# Create your tasks here\n",
    "from __future__ import absolute_import, unicode_literals\n",
    "# it is re\n",
    "\n",
    "from celery import shared_task\n",
    "\n",
    "@shared_task\n",
    "def add(x, y):\n",
    "    return x + y\n",
    "\n"
   ]
  },
  {
   "cell_type": "code",
   "execution_count": 15,
   "metadata": {},
   "outputs": [
    {
     "name": "stdout",
     "output_type": "stream",
     "text": [
      "7\n",
      "exit: 0\n",
      "7\n"
     ]
    }
   ],
   "source": [
    "class ListNode:\n",
    "    def __init__(self, val=0, next=None):\n",
    "        self.val = val\n",
    "        self.next = next\n",
    "\n",
    "l1 = ListNode(1)\n",
    "l2 = ListNode(2)\n",
    "\n",
    "\n",
    "for i in range(5,8):\n",
    "    l1.next = ListNode(i)\n",
    "    # print(l1.next)\n",
    "    l1 = l1.next\n",
    "    # print(l1.val)\n",
    "    l2.next = ListNode(i+3)\n",
    "    # l2 = l2.next\n",
    "\n",
    "def printlist(l):\n",
    "    c = 0\n",
    "    while True:\n",
    "        print(l.val)\n",
    "        l = l.next\n",
    "        if l == None:\n",
    "            break\n",
    "        c = c + 1\n",
    "    print(\"exit:\" ,c)\n",
    "\n",
    "printlist(l1)\n",
    "\n",
    "print(l1.val)\n",
    "\n",
    "# def addTwoNumbers(l1, l2):\n",
    "#     carry = 0\n",
    "#     head = ListNode(0)\n",
    "#     cur = head\n",
    "#     while l1 or l2 or carry:\n",
    "#         if l1:\n",
    "#             carry += l1.val\n",
    "#             l1 = l1.next\n",
    "#         if l2:\n",
    "#             carry += l2.val\n",
    "#             l2 = l2.next\n",
    "#         cur.next = ListNode(carry % 10)\n",
    "#         cur = cur.next\n",
    "#         carry //= 10\n",
    "#     return head.next.val\n",
    "\n",
    "# print(addTwoNumbers(l1, l2))"
   ]
  }
 ],
 "metadata": {
  "kernelspec": {
   "display_name": "Python 3",
   "language": "python",
   "name": "python3"
  },
  "language_info": {
   "codemirror_mode": {
    "name": "ipython",
    "version": 3
   },
   "file_extension": ".py",
   "mimetype": "text/x-python",
   "name": "python",
   "nbconvert_exporter": "python",
   "pygments_lexer": "ipython3",
   "version": "3.8.10"
  },
  "orig_nbformat": 4
 },
 "nbformat": 4,
 "nbformat_minor": 2
}
